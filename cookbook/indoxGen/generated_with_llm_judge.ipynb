{
 "cells": [
  {
   "cell_type": "markdown",
   "id": "6d61ef18899b9d92",
   "metadata": {},
   "source": [
    "# Loading the libraries\n",
    "\n",
    "| Platform |\n",
    "|----------|\n",
    "| [![Colab](https://colab.research.google.com/assets/colab-badge.svg)](https://colab.research.google.com/github/osllmai/inDox/blob/master/cookbook/indoxGen/generated_with_llm_judge.ipynb) |\n",
    "| [![GitHub](https://img.shields.io/badge/GitHub-Repository-blue?logo=github)](https://github.com/osllmai/inDox/blob/master/cookbook/indoxGen/generated_with_llm_judge.ipynb) |\n"
   ]
  },
  {
   "cell_type": "code",
   "execution_count": null,
   "id": "ed51bfb31f4e49d3",
   "metadata": {},
   "outputs": [],
   "source": [
    "# %pip install  indoxGen openai tenacity dotenv loguru  tenacity"
   ]
  },
  {
   "cell_type": "code",
   "execution_count": 1,
   "id": "initial_id",
   "metadata": {
    "ExecuteTime": {
     "end_time": "2024-10-19T16:15:04.614776Z",
     "start_time": "2024-10-19T16:15:04.556057Z"
    },
    "collapsed": true
   },
   "outputs": [],
   "source": [
    "import os\n",
    "from dotenv import load_dotenv\n",
    "\n",
    "load_dotenv()\n",
    "OPENAI_API_KEY = os.environ['OPENAI_API_KEY']\n",
    "NVIDIA_API_KEY = os.environ['NVIDIA_API_KEY']"
   ]
  },
  {
   "cell_type": "markdown",
   "id": "578ce38b1e86b549",
   "metadata": {},
   "source": [
    "### Example Data:\n",
    "\n",
    "This cell defines two sets of columns and corresponding example data for generating synthetic data, one focused on general demographic information and the other on medical data.\n",
    "\n",
    "1. **General Data**:\n",
    "   - `columns`: A list of three column names: `\"name\"`, `\"age\"`, and `\"occupation\"`. These represent typical demographic information fields.\n",
    "   - `example_data`: A list of dictionaries where each dictionary represents a person's demographic data. Two individuals are included:\n",
    "     - **Alice Johnson** (35 years old, Manager).\n",
    "     - **Bob Williams** (42 years old, Accountant).\n",
    "\n",
    "2. **Medical Data**:\n",
    "   - `columns_medical`: A list of six column names related to medical records, including `\"Patient ID\"`, `\"Patient Name\"`, `\"Diagnosis Code\"`, `\"Procedure Code\"`, `\"Total Charge\"`, and `\"Insurance Claim Amount\"`.\n",
    "   - `examples_medical`: A list of dictionaries containing medical examples in string format. Each dictionary provides a description of a patient's visit, including the patient ID, name, diagnosis code (e.g., ICD-10), procedure code (e.g., CPT), total charge, and the insurance claim amount.\n",
    "     - **Example 1**: Patient John Doe with diagnosis code J20.9 (acute bronchitis) and procedure 99203 (office visit).\n",
    "     - **Example 2**: Patient Johnson Smith with diagnosis code M54.5 (low back pain) and procedure 99213 (office visit).\n",
    "     - **Example 3**: Patient Emily Stone with diagnosis code E11.9 (type 2 diabetes) and procedure 99214 (office visit).\n",
    "\n",
    "This setup lays the foundation for generating two distinct types of synthetic datasets: one focusing on demographic data and the other on medical records. Each data type will likely follow different generation methods.\n"
   ]
  },
  {
   "cell_type": "code",
   "execution_count": 2,
   "id": "f82dbf11365f0308",
   "metadata": {
    "ExecuteTime": {
     "end_time": "2024-10-19T16:15:05.912955Z",
     "start_time": "2024-10-19T16:15:05.908129Z"
    }
   },
   "outputs": [],
   "source": [
    "columns = [\"name\", \"age\", \"occupation\"]\n",
    "example_data = [\n",
    "    {\"name\": \"Alice Johnson\", \"age\": 35, \"occupation\": \"Manager\"},\n",
    "    {\"name\": \"Bob Williams\", \"age\": 42, \"occupation\": \"Accountant\"}\n",
    "]\n",
    "\n",
    "columns_medical = [\"Patient ID\",\"Patient Name\",\"Diagnosis Code\",\"Procedure Code\",\"Total Charge\",\"Insurance Claim Amount\"]\n",
    "examples_medical = [\n",
    "    {\n",
    "        \"example\": \"\"\"Patient ID: 123456, Patient Name: John Doe, Diagnosis Code: \n",
    "        J20.9, Procedure Code: 99203, Total Charge: $500, Insurance Claim Amount: $350\"\"\"\n",
    "    },\n",
    "    {\n",
    "        \"example\": \"\"\"Patient ID: 789012, Patient Name: Johnson Smith, Diagnosis \n",
    "        Code: M54.5, Procedure Code: 99213, Total Charge: $150, Insurance Claim Amount: $120\"\"\"\n",
    "    },\n",
    "    {\n",
    "        \"example\": \"\"\"Patient ID: 345678, Patient Name: Emily Stone, Diagnosis Code: \n",
    "        E11.9, Procedure Code: 99214, Total Charge: $300, Insurance Claim Amount: $250\"\"\"\n",
    "    },\n",
    "]"
   ]
  },
  {
   "cell_type": "markdown",
   "id": "381b8b8b7d0d7d3b",
   "metadata": {},
   "source": [
    "### Setting Up API Clients for Synthetic Data Generation\n",
    "\n",
    "This cell establishes connections to two API clients, which are used to interact with large language models (LLMs) for synthetic data generation tasks.\n",
    "\n",
    "1. **Imports**:\n",
    "   - `from indoxGen.llms import OpenAi`: Imports the `OpenAi` class from the `indoxGen.llms` module, enabling access to the OpenAI API for generating synthetic data.\n",
    "\n",
    "2. **Initialization of API Clients**:\n",
    "   - **OpenAI Client**:\n",
    "     ```python\n",
    "     openai = OpenAi(api_key=OPENAI_API_KEY, model=\"gpt-4o-mini\")\n",
    "     ```\n",
    "     Initializes an `OpenAi` client using the provided `OPENAI_API_KEY` to connect to the `\"gpt-4o-mini\"` model. This client will be used for generating synthetic data based on the GPT-4 mini variant, providing more lightweight and efficient data generation.\n",
    "\n",
    "   - **Nemotron (NVIDIA) Client**:\n",
    "     ```python\n",
    "     nemotron = OpenAi(api_key=NVIDIA_API_KEY, model=\"nvidia/nemotron-4-340b-instruct\", base_url=\"https://integrate.api.nvidia.com/v1\")\n",
    "     ```\n",
    "     Initializes another `OpenAi` client, this time for interacting with the `\"nvidia/nemotron-4-340b-instruct\"` model, using the `NVIDIA_API_KEY` and connecting to NVIDIA's integration API via the `base_url`. The Nemotron model is a high-capacity language model designed for complex data generation tasks.\n",
    "\n",
    "This setup allows for generating synthetic data using two different models: the lightweight GPT-4 mini for more general tasks and the NVIDIA Nemotron model for heavier, more complex data generation.\n"
   ]
  },
  {
   "cell_type": "code",
   "execution_count": 3,
   "id": "7886a22687c5aa3b",
   "metadata": {
    "ExecuteTime": {
     "end_time": "2024-10-19T16:15:20.935743Z",
     "start_time": "2024-10-19T16:15:16.670054Z"
    }
   },
   "outputs": [],
   "source": [
    "from indoxGen.llms import OpenAi\n",
    "import pandas as pd\n",
    "\n",
    "openai = OpenAi(api_key=OPENAI_API_KEY,model=\"gpt-4o-mini\")\n",
    "\n",
    "nemotron = OpenAi(api_key=NVIDIA_API_KEY, model=\"nvidia/nemotron-4-340b-instruct\",\n",
    "                  base_url=\"https://integrate.api.nvidia.com/v1\")"
   ]
  },
  {
   "cell_type": "markdown",
   "id": "c98df6c4483d30d4",
   "metadata": {},
   "source": [
    "### Initializing Synthetic Data Generator\n",
    "\n",
    "This cell sets up the synthetic data generation pipeline by initializing an instance of `SyntheticDataGenerator`. The generator leverages two language models (LLMs) to create realistic synthetic data based on the provided examples and user instructions.\n",
    "\n",
    "1. **Imports**:\n",
    "   - `from indoxGen.synthCore import SyntheticDataGenerator`: Imports the `SyntheticDataGenerator` class from the `indoxGen.synthCore` module, which is responsible for generating synthetic data based on specified parameters.\n",
    "\n",
    "2. **Initializing the `SyntheticDataGenerator`**:\n",
    "    The `SyntheticDataGenerator` is initialized with the following parameters:\n",
    "- **generator_llm**: The main language model (`nemotron`) used for generating the synthetic data.\n",
    "- **judge_llm**: A secondary language model (`openai`) used for evaluating the generated data, ensuring its quality and accuracy.\n",
    "- **columns**: Specifies the structure of the synthetic data, including `\"name\"`, `\"age\"`, and `\"occupation\"`.\n",
    "- **example_data**: Provides example entries to guide the generation process.\n",
    "- **user_instruction**: A detailed instruction for generating synthetic data, ensuring diversity in names, ages, occupations, and race. It also ensures that the generated data covers both common and rare procedures, along with appropriate age ranges.\n",
    "- **verbose**: Controls the verbosity of the generator, with `1` enabling detailed output during the generation process.\n"
   ]
  },
  {
   "cell_type": "code",
   "execution_count": 4,
   "id": "34e00ba1ebf7160b",
   "metadata": {
    "ExecuteTime": {
     "end_time": "2024-10-19T16:16:02.818551Z",
     "start_time": "2024-10-19T16:16:02.765632Z"
    }
   },
   "outputs": [],
   "source": [
    "from indoxGen.synthCore import GenerativeDataSynth\n",
    "generator = GenerativeDataSynth(\n",
    "    generator_llm=openai,\n",
    "    columns=columns,\n",
    "    example_data=example_data,\n",
    "    user_instruction=\"Generate realistic data including name, age and occupation. Ensure a mix of common and rare procedures, varying race, and appropriate date ranges for age.\",\n",
    "    verbose=1\n",
    ")"
   ]
  },
  {
   "cell_type": "code",
   "execution_count": 5,
   "id": "6cc5f5785a2109fe",
   "metadata": {
    "ExecuteTime": {
     "end_time": "2024-09-30T16:27:16.454041Z",
     "start_time": "2024-09-30T16:27:16.450595Z"
    }
   },
   "outputs": [],
   "source": [
    "medical_billing_generator = GenerativeDataSynth(\n",
    "    generator_llm=nemotron,\n",
    "    judge_llm=openai,\n",
    "    columns=columns_medical,\n",
    "    example_data=examples_medical,\n",
    "    user_instruction=\"Generate realistic medical billing data including patient IDs, Patient Name, diagnosis codes, Total Charge, and Insurance Claim Amount. Ensure a mix of common and rare procedures, varying charge amounts, and appropriate date ranges for a typical healthcare provider.\",\n",
    "    verbose=1\n",
    ")"
   ]
  },
  {
   "cell_type": "markdown",
   "id": "9fd3bfbffb672690",
   "metadata": {},
   "source": [
    "### Generating Synthetic Data\n",
    "\n",
    "This cell generates synthetic data based on the configuration of the `SyntheticDataGenerator` instance.\n",
    "\n",
    "- **generated_data**: The result of calling the `generate_data` method on the `generator` instance. It stores the synthetic data created by the language model.\n",
    "  \n",
    "- **num_samples=20**: Specifies that the generator should create 20 samples of synthetic data. This controls the size of the output dataset.\n",
    "\n",
    "The generated data will follow the structure and content outlined in the `columns`, `example_data`, and `user_instruction` provided earlier, with the `generator_llm` producing the data and the `judge_llm` validating it for quality and accuracy.\n"
   ]
  },
  {
   "cell_type": "code",
   "execution_count": 6,
   "id": "ae599a029c38fa30",
   "metadata": {
    "ExecuteTime": {
     "end_time": "2024-10-19T16:16:29.607241Z",
     "start_time": "2024-10-19T16:16:11.602269Z"
    }
   },
   "outputs": [
    {
     "name": "stdout",
     "output_type": "stream",
     "text": [
      "\u001b[32mINFO\u001b[0m: \u001b[1mGenerated data point: {'name': 'Rajesh Patel', 'age': '39', 'occupation': 'Software Engineer'}\u001b[0m\n",
      "\u001b[32mINFO\u001b[0m: \u001b[1mGenerated data point: {'name': 'Fatima Al-Mansoori', 'age': '37', 'occupation': 'Data Scientist'}\u001b[0m\n",
      "\u001b[32mINFO\u001b[0m: \u001b[1mGenerated data point: {'name': 'Chloe Thompson', 'age': '41', 'occupation': 'Graphic Designer'}\u001b[0m\n",
      "\u001b[32mINFO\u001b[0m: \u001b[1mGenerated data point: {'name': 'Marcus Chen', 'age': '36', 'occupation': 'Marketing Specialist'}\u001b[0m\n",
      "\u001b[32mINFO\u001b[0m: \u001b[1mGenerated data point: {'name': 'Jamal Robinson', 'age': '39', 'occupation': 'Civil Engineer'}\u001b[0m\n",
      "\u001b[32mINFO\u001b[0m: \u001b[1mGenerated data point: {'name': 'Fatima Al-Mansoori', 'age': '37', 'occupation': 'Data Scientist'}\u001b[0m\n",
      "\u001b[32mINFO\u001b[0m: \u001b[1mGenerated data point: {'name': 'Sofia Patel', 'age': '41', 'occupation': 'Healthcare Administrator'}\u001b[0m\n",
      "\u001b[32mINFO\u001b[0m: \u001b[1mGenerated data point: {'name': 'Marcus Chen', 'age': '36', 'occupation': 'Marketing Specialist'}\u001b[0m\n",
      "\u001b[32mINFO\u001b[0m: \u001b[1mGenerated data point: {'name': 'Jamal Thompson', 'age': '39', 'occupation': 'Civil Engineer'}\u001b[0m\n",
      "\u001b[32mINFO\u001b[0m: \u001b[1mGenerated data point: {'name': 'Lila Rodriguez', 'age': '37', 'occupation': 'Data Scientist'}\u001b[0m\n",
      "\u001b[32mINFO\u001b[0m: \u001b[1mProgress: 10/20 data points generated. Attempts: 10\u001b[0m\n",
      "\u001b[32mINFO\u001b[0m: \u001b[1mGenerated data point: {'name': 'Priya Patel', 'age': '41', 'occupation': 'Healthcare Administrator'}\u001b[0m\n",
      "\u001b[32mINFO\u001b[0m: \u001b[1mGenerated data point: {'name': 'Marcus Chen', 'age': '36', 'occupation': 'Graphic Designer'}\u001b[0m\n",
      "\u001b[32mINFO\u001b[0m: \u001b[1mGenerated data point: {'name': 'Jamal Thompson', 'age': '39', 'occupation': 'Civil Engineer'}\u001b[0m\n",
      "\u001b[32mINFO\u001b[0m: \u001b[1mGenerated data point: {'name': 'Fatima Al-Mansoori', 'age': '38', 'occupation': 'Data Scientist'}\u001b[0m\n",
      "\u001b[32mINFO\u001b[0m: \u001b[1mGenerated data point: {'name': 'Sofia Patel', 'age': '41', 'occupation': 'Healthcare Administrator'}\u001b[0m\n",
      "\u001b[32mINFO\u001b[0m: \u001b[1mGenerated data point: {'name': 'Marcus Chen', 'age': '36', 'occupation': 'Graphic Designer'}\u001b[0m\n",
      "\u001b[32mINFO\u001b[0m: \u001b[1mGenerated data point: {'name': 'Jamal Thompson', 'age': '39', 'occupation': 'Urban Planner'}\u001b[0m\n",
      "\u001b[32mINFO\u001b[0m: \u001b[1mGenerated data point: {'name': 'Lila Gomez', 'age': '37', 'occupation': 'Data Scientist'}\u001b[0m\n",
      "\u001b[32mINFO\u001b[0m: \u001b[1mGenerated data point: {'name': 'Priya Patel', 'age': '41', 'occupation': 'Healthcare Administrator'}\u001b[0m\n",
      "\u001b[32mINFO\u001b[0m: \u001b[1mGenerated data point: {'name': 'Marcus Chen', 'age': '36', 'occupation': 'Graphic Designer'}\u001b[0m\n",
      "\u001b[32mINFO\u001b[0m: \u001b[1mProgress: 20/20 data points generated. Attempts: 20\u001b[0m\n"
     ]
    }
   ],
   "source": [
    "# Generate data\n",
    "generated_data = generator.generate_data(num_samples=20)"
   ]
  },
  {
   "cell_type": "code",
   "execution_count": 7,
   "id": "f5103a9a65a1ed6",
   "metadata": {
    "ExecuteTime": {
     "end_time": "2024-09-30T15:49:08.535729Z",
     "start_time": "2024-09-30T15:49:08.507567Z"
    }
   },
   "outputs": [
    {
     "data": {
      "text/html": [
       "<div>\n",
       "<style scoped>\n",
       "    .dataframe tbody tr th:only-of-type {\n",
       "        vertical-align: middle;\n",
       "    }\n",
       "\n",
       "    .dataframe tbody tr th {\n",
       "        vertical-align: top;\n",
       "    }\n",
       "\n",
       "    .dataframe thead th {\n",
       "        text-align: right;\n",
       "    }\n",
       "</style>\n",
       "<table border=\"1\" class=\"dataframe\">\n",
       "  <thead>\n",
       "    <tr style=\"text-align: right;\">\n",
       "      <th></th>\n",
       "      <th>name</th>\n",
       "      <th>age</th>\n",
       "      <th>occupation</th>\n",
       "    </tr>\n",
       "  </thead>\n",
       "  <tbody>\n",
       "    <tr>\n",
       "      <th>0</th>\n",
       "      <td>Rajesh Patel</td>\n",
       "      <td>39</td>\n",
       "      <td>Software Engineer</td>\n",
       "    </tr>\n",
       "    <tr>\n",
       "      <th>1</th>\n",
       "      <td>Fatima Al-Mansoori</td>\n",
       "      <td>37</td>\n",
       "      <td>Data Scientist</td>\n",
       "    </tr>\n",
       "    <tr>\n",
       "      <th>2</th>\n",
       "      <td>Chloe Thompson</td>\n",
       "      <td>41</td>\n",
       "      <td>Graphic Designer</td>\n",
       "    </tr>\n",
       "    <tr>\n",
       "      <th>3</th>\n",
       "      <td>Marcus Chen</td>\n",
       "      <td>36</td>\n",
       "      <td>Marketing Specialist</td>\n",
       "    </tr>\n",
       "    <tr>\n",
       "      <th>4</th>\n",
       "      <td>Jamal Robinson</td>\n",
       "      <td>39</td>\n",
       "      <td>Civil Engineer</td>\n",
       "    </tr>\n",
       "    <tr>\n",
       "      <th>5</th>\n",
       "      <td>Fatima Al-Mansoori</td>\n",
       "      <td>37</td>\n",
       "      <td>Data Scientist</td>\n",
       "    </tr>\n",
       "    <tr>\n",
       "      <th>6</th>\n",
       "      <td>Sofia Patel</td>\n",
       "      <td>41</td>\n",
       "      <td>Healthcare Administrator</td>\n",
       "    </tr>\n",
       "    <tr>\n",
       "      <th>7</th>\n",
       "      <td>Marcus Chen</td>\n",
       "      <td>36</td>\n",
       "      <td>Marketing Specialist</td>\n",
       "    </tr>\n",
       "    <tr>\n",
       "      <th>8</th>\n",
       "      <td>Jamal Thompson</td>\n",
       "      <td>39</td>\n",
       "      <td>Civil Engineer</td>\n",
       "    </tr>\n",
       "    <tr>\n",
       "      <th>9</th>\n",
       "      <td>Lila Rodriguez</td>\n",
       "      <td>37</td>\n",
       "      <td>Data Scientist</td>\n",
       "    </tr>\n",
       "    <tr>\n",
       "      <th>10</th>\n",
       "      <td>Priya Patel</td>\n",
       "      <td>41</td>\n",
       "      <td>Healthcare Administrator</td>\n",
       "    </tr>\n",
       "    <tr>\n",
       "      <th>11</th>\n",
       "      <td>Marcus Chen</td>\n",
       "      <td>36</td>\n",
       "      <td>Graphic Designer</td>\n",
       "    </tr>\n",
       "    <tr>\n",
       "      <th>12</th>\n",
       "      <td>Jamal Thompson</td>\n",
       "      <td>39</td>\n",
       "      <td>Civil Engineer</td>\n",
       "    </tr>\n",
       "    <tr>\n",
       "      <th>13</th>\n",
       "      <td>Fatima Al-Mansoori</td>\n",
       "      <td>38</td>\n",
       "      <td>Data Scientist</td>\n",
       "    </tr>\n",
       "    <tr>\n",
       "      <th>14</th>\n",
       "      <td>Sofia Patel</td>\n",
       "      <td>41</td>\n",
       "      <td>Healthcare Administrator</td>\n",
       "    </tr>\n",
       "    <tr>\n",
       "      <th>15</th>\n",
       "      <td>Marcus Chen</td>\n",
       "      <td>36</td>\n",
       "      <td>Graphic Designer</td>\n",
       "    </tr>\n",
       "    <tr>\n",
       "      <th>16</th>\n",
       "      <td>Jamal Thompson</td>\n",
       "      <td>39</td>\n",
       "      <td>Urban Planner</td>\n",
       "    </tr>\n",
       "    <tr>\n",
       "      <th>17</th>\n",
       "      <td>Lila Gomez</td>\n",
       "      <td>37</td>\n",
       "      <td>Data Scientist</td>\n",
       "    </tr>\n",
       "    <tr>\n",
       "      <th>18</th>\n",
       "      <td>Priya Patel</td>\n",
       "      <td>41</td>\n",
       "      <td>Healthcare Administrator</td>\n",
       "    </tr>\n",
       "    <tr>\n",
       "      <th>19</th>\n",
       "      <td>Marcus Chen</td>\n",
       "      <td>36</td>\n",
       "      <td>Graphic Designer</td>\n",
       "    </tr>\n",
       "  </tbody>\n",
       "</table>\n",
       "</div>"
      ],
      "text/plain": [
       "                  name age                occupation\n",
       "0         Rajesh Patel  39         Software Engineer\n",
       "1   Fatima Al-Mansoori  37            Data Scientist\n",
       "2       Chloe Thompson  41          Graphic Designer\n",
       "3          Marcus Chen  36      Marketing Specialist\n",
       "4       Jamal Robinson  39            Civil Engineer\n",
       "5   Fatima Al-Mansoori  37            Data Scientist\n",
       "6          Sofia Patel  41  Healthcare Administrator\n",
       "7          Marcus Chen  36      Marketing Specialist\n",
       "8       Jamal Thompson  39            Civil Engineer\n",
       "9       Lila Rodriguez  37            Data Scientist\n",
       "10         Priya Patel  41  Healthcare Administrator\n",
       "11         Marcus Chen  36          Graphic Designer\n",
       "12      Jamal Thompson  39            Civil Engineer\n",
       "13  Fatima Al-Mansoori  38            Data Scientist\n",
       "14         Sofia Patel  41  Healthcare Administrator\n",
       "15         Marcus Chen  36          Graphic Designer\n",
       "16      Jamal Thompson  39             Urban Planner\n",
       "17          Lila Gomez  37            Data Scientist\n",
       "18         Priya Patel  41  Healthcare Administrator\n",
       "19         Marcus Chen  36          Graphic Designer"
      ]
     },
     "execution_count": 7,
     "metadata": {},
     "output_type": "execute_result"
    }
   ],
   "source": [
    "generated_data"
   ]
  },
  {
   "cell_type": "code",
   "execution_count": 8,
   "id": "98a38b7372b256e9",
   "metadata": {
    "ExecuteTime": {
     "end_time": "2024-09-24T16:36:25.663281Z",
     "start_time": "2024-09-24T16:35:33.545446Z"
    }
   },
   "outputs": [
    {
     "name": "stdout",
     "output_type": "stream",
     "text": [
      "\u001b[32mINFO\u001b[0m: \u001b[1mGenerated data point: {'Patient ID': '987654', 'Patient Name': 'Olivia Green', 'Diagnosis Code': 'I10', 'Procedure Code': '36415', 'Total Charge': '$2,500', 'Insurance Claim Amount': '$2,000'}\u001b[0m\n",
      "\u001b[32mINFO\u001b[0m: \u001b[1mGenerated data point: {'Patient ID': '654321', 'Patient Name': 'Sophia Brown', 'Diagnosis Code': 'G47.33', 'Procedure Code': '92507', 'Total Charge': '$1,800', 'Insurance Claim Amount': '$1,500'}\u001b[0m\n",
      "\u001b[32mINFO\u001b[0m: \u001b[1mGenerated data point: {'Patient ID': '1234567', 'Patient Name': 'Michael Johnson', 'Diagnosis Code': 'K21.9', 'Procedure Code': '43235', 'Total Charge': '$3,200', 'Insurance Claim Amount': '$2,800'}\u001b[0m\n",
      "\u001b[32mINFO\u001b[0m: \u001b[1mGenerated data point: {'Patient ID': '8765432', 'Patient Name': 'Ava Williams', 'Diagnosis Code': 'F32.9', 'Procedure Code': '90837', 'Total Charge': '$1,200', 'Insurance Claim Amount': '$900'}\u001b[0m\n",
      "\u001b[32mINFO\u001b[0m: \u001b[1mGenerated data point: {'Patient ID': '9876543', 'Patient Name': 'Olivia Davis', 'Diagnosis Code': 'I10', 'Procedure Code': '36.12', 'Total Charge': '$2,500', 'Insurance Claim Amount': '$2,000'}\u001b[0m\n",
      "\u001b[32mINFO\u001b[0m: \u001b[1mGenerated data point: {'Patient ID': '6549873', 'Patient Name': 'Sophia Brown', 'Diagnosis Code': 'G47.33', 'Procedure Code': '95810', 'Total Charge': '$1,800', 'Insurance Claim Amount': '$1,500'}\u001b[0m\n"
     ]
    }
   ],
   "source": [
    "medical_billing_data = medical_billing_generator.generate_data(num_samples=6)"
   ]
  },
  {
   "cell_type": "code",
   "execution_count": 9,
   "id": "6b86a47d0ab11cd9",
   "metadata": {
    "ExecuteTime": {
     "end_time": "2024-09-24T16:36:25.672414Z",
     "start_time": "2024-09-24T16:36:25.663281Z"
    }
   },
   "outputs": [
    {
     "data": {
      "text/html": [
       "<div>\n",
       "<style scoped>\n",
       "    .dataframe tbody tr th:only-of-type {\n",
       "        vertical-align: middle;\n",
       "    }\n",
       "\n",
       "    .dataframe tbody tr th {\n",
       "        vertical-align: top;\n",
       "    }\n",
       "\n",
       "    .dataframe thead th {\n",
       "        text-align: right;\n",
       "    }\n",
       "</style>\n",
       "<table border=\"1\" class=\"dataframe\">\n",
       "  <thead>\n",
       "    <tr style=\"text-align: right;\">\n",
       "      <th></th>\n",
       "      <th>Patient ID</th>\n",
       "      <th>Patient Name</th>\n",
       "      <th>Diagnosis Code</th>\n",
       "      <th>Procedure Code</th>\n",
       "      <th>Total Charge</th>\n",
       "      <th>Insurance Claim Amount</th>\n",
       "    </tr>\n",
       "  </thead>\n",
       "  <tbody>\n",
       "    <tr>\n",
       "      <th>0</th>\n",
       "      <td>987654</td>\n",
       "      <td>Olivia Green</td>\n",
       "      <td>I10</td>\n",
       "      <td>36415</td>\n",
       "      <td>$2,500</td>\n",
       "      <td>$2,000</td>\n",
       "    </tr>\n",
       "    <tr>\n",
       "      <th>1</th>\n",
       "      <td>654321</td>\n",
       "      <td>Sophia Brown</td>\n",
       "      <td>G47.33</td>\n",
       "      <td>92507</td>\n",
       "      <td>$1,800</td>\n",
       "      <td>$1,500</td>\n",
       "    </tr>\n",
       "    <tr>\n",
       "      <th>2</th>\n",
       "      <td>1234567</td>\n",
       "      <td>Michael Johnson</td>\n",
       "      <td>K21.9</td>\n",
       "      <td>43235</td>\n",
       "      <td>$3,200</td>\n",
       "      <td>$2,800</td>\n",
       "    </tr>\n",
       "    <tr>\n",
       "      <th>3</th>\n",
       "      <td>8765432</td>\n",
       "      <td>Ava Williams</td>\n",
       "      <td>F32.9</td>\n",
       "      <td>90837</td>\n",
       "      <td>$1,200</td>\n",
       "      <td>$900</td>\n",
       "    </tr>\n",
       "    <tr>\n",
       "      <th>4</th>\n",
       "      <td>9876543</td>\n",
       "      <td>Olivia Davis</td>\n",
       "      <td>I10</td>\n",
       "      <td>36.12</td>\n",
       "      <td>$2,500</td>\n",
       "      <td>$2,000</td>\n",
       "    </tr>\n",
       "    <tr>\n",
       "      <th>5</th>\n",
       "      <td>6549873</td>\n",
       "      <td>Sophia Brown</td>\n",
       "      <td>G47.33</td>\n",
       "      <td>95810</td>\n",
       "      <td>$1,800</td>\n",
       "      <td>$1,500</td>\n",
       "    </tr>\n",
       "  </tbody>\n",
       "</table>\n",
       "</div>"
      ],
      "text/plain": [
       "  Patient ID     Patient Name Diagnosis Code Procedure Code Total Charge  \\\n",
       "0     987654     Olivia Green            I10          36415       $2,500   \n",
       "1     654321     Sophia Brown         G47.33          92507       $1,800   \n",
       "2    1234567  Michael Johnson          K21.9          43235       $3,200   \n",
       "3    8765432     Ava Williams          F32.9          90837       $1,200   \n",
       "4    9876543     Olivia Davis            I10          36.12       $2,500   \n",
       "5    6549873     Sophia Brown         G47.33          95810       $1,800   \n",
       "\n",
       "  Insurance Claim Amount  \n",
       "0                 $2,000  \n",
       "1                 $1,500  \n",
       "2                 $2,800  \n",
       "3                   $900  \n",
       "4                 $2,000  \n",
       "5                 $1,500  "
      ]
     },
     "execution_count": 9,
     "metadata": {},
     "output_type": "execute_result"
    }
   ],
   "source": [
    "medical_billing_data"
   ]
  },
  {
   "cell_type": "code",
   "execution_count": 10,
   "id": "ac7c9ab19a7b5365",
   "metadata": {},
   "outputs": [
    {
     "name": "stdout",
     "output_type": "stream",
     "text": [
      "Generated Data is done!\n"
     ]
    }
   ],
   "source": [
    "print(\"Generated Data is done!\")"
   ]
  }
 ],
 "metadata": {
  "kernelspec": {
   "display_name": "indox",
   "language": "python",
   "name": "python3"
  },
  "language_info": {
   "codemirror_mode": {
    "name": "ipython",
    "version": 3
   },
   "file_extension": ".py",
   "mimetype": "text/x-python",
   "name": "python",
   "nbconvert_exporter": "python",
   "pygments_lexer": "ipython3",
   "version": "3.11.11"
  }
 },
 "nbformat": 4,
 "nbformat_minor": 5
}

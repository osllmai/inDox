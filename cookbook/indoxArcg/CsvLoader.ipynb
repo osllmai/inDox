{
 "cells": [
  {
   "cell_type": "markdown",
   "id": "51997c077670ae9a",
   "metadata": {
    "id": "51997c077670ae9a"
   },
   "source": [
    "# Indox Retrieval Augmentation for CSV files\n",
    "\n",
    "Here, we will explore how to work with Indox Retrieval Augmentation. We are using OpenAI from Indox Api, we should set our INDOX_OPENAI_API_KEY as an environment variable.\n",
    "\n",
    "[![Open In Colab](https://colab.research.google.com/assets/colab-badge.svg)](https://colab.research.google.com/github/osllmai/inDox/blob/master/cookbook/indoxArcg/CsvLoader.ipynb)"
   ]
  },
  {
   "cell_type": "code",
   "execution_count": null,
   "id": "c38f209265787d17",
   "metadata": {
    "ExecuteTime": {
     "end_time": "2024-08-26T01:26:56.438768Z",
     "start_time": "2024-08-26T01:26:56.416669Z"
    },
    "colab": {
     "base_uri": "https://localhost:8080/"
    },
    "collapsed": true,
    "id": "c38f209265787d17",
    "outputId": "de3f4b3d-bd93-4025-c635-0828de5bcd3c"
   },
   "outputs": [],
   "source": [
    "!pip install chromadb semantic_text_splitter sentence-transformers indoxarcg"
   ]
  },
  {
   "cell_type": "markdown",
   "id": "c631796ff433de6d",
   "metadata": {
    "id": "c631796ff433de6d"
   },
   "source": [
    "## Setting Up the Python Environment\n",
    "\n",
    "If you are running this project in your local IDE, please create a Python environment to ensure all dependencies are correctly managed. You can follow the steps below to set up a virtual environment named `indoxarcg`:\n",
    "\n",
    "### Windows\n",
    "\n",
    "1. **Create the virtual environment:**\n",
    "```bash\n",
    "python -m venv indoxarcg\n",
    "```\n",
    "2. **Activate the virtual environment:**\n",
    "```bash\n",
    "indoxarcg\\Scripts\\activate\n",
    "```\n",
    "\n",
    "### macOS/Linux\n",
    "\n",
    "1. **Create the virtual environment:**\n",
    "   ```bash\n",
    "   python3 -m venv indoxarcg\n",
    "```\n",
    "\n",
    "2. **Activate the virtual environment:**\n",
    "    ```bash\n",
    "   source indoxarcg/bin/activate\n",
    "```\n",
    "### Install Dependencies\n",
    "\n",
    "Once the virtual environment is activated, install the required dependencies by running:\n",
    "\n",
    "```bash\n",
    "pip install -r requirements.txt\n",
    "```\n"
   ]
  },
  {
   "cell_type": "code",
   "execution_count": 2,
   "id": "ba17f5438e277a16",
   "metadata": {
    "ExecuteTime": {
     "end_time": "2024-08-26T01:27:01.935299Z",
     "start_time": "2024-08-26T01:27:01.833788Z"
    },
    "id": "ba17f5438e277a16"
   },
   "outputs": [],
   "source": [
    "import os\n",
    "from dotenv import load_dotenv\n",
    "\n",
    "load_dotenv()\n",
    "NERD_TOKEN_API= os.getenv(\"NERD_TOKEN_API\")\n"
   ]
  },
  {
   "cell_type": "markdown",
   "id": "pC4zGogXBsq7",
   "metadata": {
    "id": "pC4zGogXBsq7"
   },
   "source": [
    "### Creating an instance of IndoxTetrivalAugmentation\n",
    "\n",
    "To effectively utilize the Indox Retrieval Augmentation capabilities, you must first create an instance of the IndoxRetrievalAugmentation class. This instance will allow you to access the methods and properties defined within the class, enabling the augmentation and retrieval functionalities."
   ]
  },
  {
   "cell_type": "markdown",
   "id": "46e5f531cd9d8fd2",
   "metadata": {
    "id": "46e5f531cd9d8fd2"
   },
   "source": [
    "### Generating response using Indox\n",
    "IndoxApi class is used to handle question-answering task using Indox model. This instance creates IndoxOpenAIEmbedding class to specifying embedding model.By using ClusteredSplit function we can import pdf and text file and split them into chunks."
   ]
  },
  {
   "cell_type": "code",
   "execution_count": 4,
   "id": "initial_id",
   "metadata": {
    "ExecuteTime": {
     "end_time": "2024-08-26T01:26:57.470932Z",
     "start_time": "2024-08-26T01:26:57.468916Z"
    },
    "colab": {
     "base_uri": "https://localhost:8080/"
    },
    "collapsed": true,
    "id": "initial_id",
    "outputId": "aab89d91-ea72-47c0-c16b-d853447b561a"
   },
   "outputs": [
    {
     "name": "stdout",
     "output_type": "stream",
     "text": [
      "\u001b[32mINFO\u001b[0m: \u001b[1mInitialized IndoxOpenAIEmbedding with model: text-embedding-3-small\u001b[0m\n"
     ]
    }
   ],
   "source": [
    "# Import necessary classes from Indox library\n",
    "from indoxArcg.llms import NerdToken\n",
    "from indoxArcg.embeddings import NerdTokenEmbedding\n",
    "from indoxArcg.data_loaders import CSV\n",
    "from indoxArcg.splitter import semantic_text_splitter\n",
    "# Create instances for API access and text embedding\n",
    "openai_qa_indox = NerdToken(api_key=NERD_TOKEN_API)\n",
    "embed_openai_indox = NerdTokenEmbedding(api_key=NERD_TOKEN_API, model=\"text-embedding-3-small\")\n",
    "\n"
   ]
  },
  {
   "cell_type": "code",
   "execution_count": null,
   "id": "FjPaAFmyyrWq",
   "metadata": {
    "colab": {
     "base_uri": "https://localhost:8080/"
    },
    "id": "FjPaAFmyyrWq",
    "outputId": "73f3da7e-c6d0-4bd0-94fb-1d0466682f18"
   },
   "outputs": [],
   "source": [
    "!wget \"https://docs.google.com/spreadsheets/d/1EvngUGX8YHp5N1OhbP3NlOUk_xVJgpgov5u8K2uNmyM/export?format=csv&gid=0\" -O sample.csv\n"
   ]
  },
  {
   "cell_type": "markdown",
   "id": "33a7a9eb37d052f3",
   "metadata": {
    "id": "33a7a9eb37d052f3"
   },
   "source": [
    "### load and preprocess data\n",
    "This part of code demonstrates how to load and preprocess text data from a pdf file using PdfMiner."
   ]
  },
  {
   "cell_type": "code",
   "execution_count": 5,
   "id": "TLShpqEB1OjT",
   "metadata": {
    "id": "TLShpqEB1OjT"
   },
   "outputs": [],
   "source": [
    "csv_path=\"sample.csv\""
   ]
  },
  {
   "cell_type": "code",
   "execution_count": null,
   "id": "dc3ed4ca9e6d2866",
   "metadata": {
    "id": "dc3ed4ca9e6d2866"
   },
   "outputs": [],
   "source": [
    "document = CSV(csv_path)\n",
    "docs = document.load()\n"
   ]
  },
  {
   "cell_type": "code",
   "execution_count": null,
   "id": "b_svqllNRl_u",
   "metadata": {
    "id": "b_svqllNRl_u"
   },
   "outputs": [],
   "source": [
    "splitter = semantic_text_splitter(text=str(docs),max_tokens=512)"
   ]
  },
  {
   "cell_type": "code",
   "execution_count": null,
   "id": "CUu3JnALSLAz",
   "metadata": {
    "id": "CUu3JnALSLAz"
   },
   "outputs": [],
   "source": [
    "from indoxArcg.splitter import semantic_text_splitter\n",
    "content_chunks = semantic_text_splitter(str(docs),500)"
   ]
  },
  {
   "cell_type": "code",
   "execution_count": null,
   "id": "b6b8e4a60bea24c8",
   "metadata": {
    "colab": {
     "base_uri": "https://localhost:8080/"
    },
    "id": "b6b8e4a60bea24c8",
    "outputId": "accce69d-9415-4493-a424-38c157c837d6"
   },
   "outputs": [
    {
     "name": "stdout",
     "output_type": "stream",
     "text": [
      "[Document(page_content=Question,Answer, metadata={'source': '/content/sample.csv', 'pages': 1, 'num_rows': 11}), Document(page_content=What is astronomy?,Astronomy is the scientific study of celestial objects, space, and the universe as a whole. It involves the observation and analysis of planets, stars, galaxies, and other phenomena., metadata={'source': '/content/sample.csv', 'pages': 1, 'num_rows': 11}), Document(page_content=What is the largest planet in our solar system?,The largest planet in our solar system is Jupiter. It has a diameter of about 139,820 kilometers (86,881 miles)., metadata={'source': '/content/sample.csv', 'pages': 1, 'num_rows': 11}), Document(page_content=How far is the Earth from the Sun?,The average distance from Earth to the Sun is approximately 93 million miles or 150 million kilometers, a distance known as one astronomical unit (AU)., metadata={'source': '/content/sample.csv', 'pages': 1, 'num_rows': 11}), Document(page_content=What is a black hole?,A black hole is a region in space where the gravitational pull is so strong that not even light can escape from it. Black holes are formed from the remnants of massive stars that have collapsed under their own gravity., metadata={'source': '/content/sample.csv', 'pages': 1, 'num_rows': 11}), Document(page_content=What is the Milky Way?,The Milky Way is the galaxy that contains our solar system. It is a barred spiral galaxy, characterized by a central bulge surrounded by spiral arms., metadata={'source': '/content/sample.csv', 'pages': 1, 'num_rows': 11}), Document(page_content=Who was the first person to walk on the Moon?,The first person to walk on the Moon was Neil Armstrong, an astronaut who took his historic step on July 20, 1969, during the Apollo 11 mission., metadata={'source': '/content/sample.csv', 'pages': 1, 'num_rows': 11}), Document(page_content=What is the Hubble Space Telescope?,The Hubble Space Telescope is a large space-based observatory that has been providing detailed images and data of distant galaxies, nebulae, and other celestial objects since its launch in 1990., metadata={'source': '/content/sample.csv', 'pages': 1, 'num_rows': 11}), Document(page_content=What causes a solar eclipse?,A solar eclipse occurs when the Moon passes between the Earth and the Sun, blocking the Sun's light either partially or completely., metadata={'source': '/content/sample.csv', 'pages': 1, 'num_rows': 11}), Document(page_content=What are pulsars?,Pulsars are highly magnetized, rotating neutron stars that emit beams of electromagnetic radiation out of their magnetic poles. The beams are observed as pulses of radiation., metadata={'source': '/content/sample.csv', 'pages': 1, 'num_rows': 11}), Document(page_content=What is dark matter?,Dark matter is a form of matter that does not emit, absorb, or reflect light, making it invisible. It is believed to make up about 27% of the universe's mass and affects the motion of galaxies and galaxy clusters., metadata={'source': '/content/sample.csv', 'pages': 1, 'num_rows': 11})]\n"
     ]
    }
   ],
   "source": [
    "doc = docs\n",
    "print(doc)"
   ]
  },
  {
   "cell_type": "markdown",
   "id": "5d66f4e5949f9ea7",
   "metadata": {
    "id": "5d66f4e5949f9ea7"
   },
   "source": [
    "### Retrieve relevant information and generate an answer\n",
    "The main purpose of these lines is to perform a query on the vector store to retrieve the most relevant information (top_k=5) and generate an answer using the language model."
   ]
  },
  {
   "cell_type": "code",
   "execution_count": null,
   "id": "1efe372898c215ed",
   "metadata": {
    "id": "1efe372898c215ed"
   },
   "outputs": [],
   "source": [
    "from indoxArcg.vector_stores import Chroma\n",
    "\n",
    "# Define the collection name within the vector store\n",
    "collection_name = \"sample\"\n",
    "db = Chroma(collection_name=collection_name, embedding_function=embed_openai_indox)"
   ]
  },
  {
   "cell_type": "code",
   "execution_count": null,
   "id": "ELCmIHZtC4GF",
   "metadata": {
    "colab": {
     "base_uri": "https://localhost:8080/"
    },
    "id": "ELCmIHZtC4GF",
    "outputId": "4e437682-e362-4c19-f368-77689e531bc0"
   },
   "outputs": [
    {
     "name": "stdout",
     "output_type": "stream",
     "text": [
      "\u001b[32mINFO\u001b[0m: \u001b[1mStoring documents in the vector store\u001b[0m\n",
      "\u001b[32mINFO\u001b[0m: \u001b[1mEmbedding documents\u001b[0m\n",
      "\u001b[32mINFO\u001b[0m: \u001b[1mStarting to fetch embeddings texts using engine: text-embedding-3-small\u001b[0m\n",
      "\u001b[32mINFO\u001b[0m: \u001b[1mDocument added successfully to the vector store.\u001b[0m\n",
      "\u001b[32mINFO\u001b[0m: \u001b[1mDocuments stored successfully\u001b[0m\n"
     ]
    }
   ],
   "source": [
    "db.add(docs=docs)"
   ]
  },
  {
   "cell_type": "code",
   "execution_count": null,
   "id": "b5d2184637979019",
   "metadata": {
    "id": "b5d2184637979019"
   },
   "outputs": [],
   "source": [
    "from indoxArcg.pipelines.rag import RAG\n",
    "indox = RAG(llm=openai_qa_indox,vector_store=db,enable_web_fallback=False)"
   ]
  },
  {
   "cell_type": "markdown",
   "id": "im1bCkWLCPyZ",
   "metadata": {
    "id": "im1bCkWLCPyZ"
   },
   "source": [
    "infer(query) method sends the query to the retriever, which searches the vector store for relevant text chunks and uses the language model to generate a response based on the retrieved information.\n",
    "Context property retrieves the context or the detailed information that the retriever used to generate the answer to the query. It provides insight into how the query was answered by showing the relevant text chunks and any additional information used."
   ]
  },
  {
   "cell_type": "code",
   "execution_count": null,
   "id": "1e14d833164b534e",
   "metadata": {
    "id": "1e14d833164b534e"
   },
   "outputs": [],
   "source": [
    "query = \"What is dark matter?\""
   ]
  },
  {
   "cell_type": "code",
   "execution_count": null,
   "id": "vOVJgKpMClFP",
   "metadata": {
    "colab": {
     "base_uri": "https://localhost:8080/"
    },
    "id": "vOVJgKpMClFP",
    "outputId": "56e3793c-61bd-46f6-8d96-e4896d918076"
   },
   "outputs": [
    {
     "name": "stdout",
     "output_type": "stream",
     "text": [
      "\u001b[32mINFO\u001b[0m: \u001b[1mRetrieving context and scores from the vector database\u001b[0m\n",
      "\u001b[32mINFO\u001b[0m: \u001b[1mEmbedding documents\u001b[0m\n",
      "\u001b[32mINFO\u001b[0m: \u001b[1mStarting to fetch embeddings texts using engine: text-embedding-3-small\u001b[0m\n",
      "\u001b[32mINFO\u001b[0m: \u001b[1mGenerating answer without document relevancy filter\u001b[0m\n",
      "\u001b[32mINFO\u001b[0m: \u001b[1mQuery answered successfully\u001b[0m\n",
      "Dark matter is a form of matter that does not emit, absorb, or reflect light, making it invisible. It is believed to make up about 27% of the universe's mass and affects the motion of galaxies and galaxy clusters.\n"
     ]
    }
   ],
   "source": [
    "answer = indox.infer(query)\n",
    "print(answer)"
   ]
  }
 ],
 "metadata": {
  "colab": {
   "provenance": []
  },
  "kernelspec": {
   "display_name": ".venv",
   "language": "python",
   "name": "python3"
  },
  "language_info": {
   "codemirror_mode": {
    "name": "ipython",
    "version": 3
   },
   "file_extension": ".py",
   "mimetype": "text/x-python",
   "name": "python",
   "nbconvert_exporter": "python",
   "pygments_lexer": "ipython3",
   "version": "3.12.0"
  }
 },
 "nbformat": 4,
 "nbformat_minor": 5
}

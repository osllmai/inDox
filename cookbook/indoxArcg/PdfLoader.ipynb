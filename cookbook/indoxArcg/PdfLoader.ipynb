{
 "cells": [
  {
   "cell_type": "markdown",
   "id": "51997c077670ae9a",
   "metadata": {
    "id": "51997c077670ae9a"
   },
   "source": [
    "## Indox Retrieval Augmentation\n",
    "Here, we will explore how to work with Indox Retrieval Augmentation. We are using OpenAI from Indox Api, we should set our INDOX_OPENAI_API_KEY as an environment variable.\n",
    "\n",
    "[![Open In Colab](https://colab.research.google.com/assets/colab-badge.svg)](https://colab.research.google.com/github/osllmai/inDox/blob/master/cookbook/indoxArcg/pdfLoader.ipynb)"
   ]
  },
  {
   "cell_type": "code",
   "execution_count": 1,
   "id": "c38f209265787d17",
   "metadata": {
    "ExecuteTime": {
     "end_time": "2024-08-26T01:26:56.438768Z",
     "start_time": "2024-08-26T01:26:56.416669Z"
    },
    "colab": {
     "base_uri": "https://localhost:8080/"
    },
    "collapsed": true,
    "id": "c38f209265787d17",
    "outputId": "b12fdd26-354a-4a7b-b6ca-367fd5506f6b"
   },
   "outputs": [
    {
     "name": "stdout",
     "output_type": "stream",
     "text": [
      "Requirement already satisfied: indoxArcg in /Users/parsanemati/miniconda3/envs/indox/lib/python3.11/site-packages (0.0.4)\n",
      "Requirement already satisfied: latex2markdown in /Users/parsanemati/miniconda3/envs/indox/lib/python3.11/site-packages (from indoxArcg) (0.2.1)\n",
      "Requirement already satisfied: loguru in /Users/parsanemati/miniconda3/envs/indox/lib/python3.11/site-packages (from indoxArcg) (0.7.3)\n",
      "Requirement already satisfied: numpy in /Users/parsanemati/miniconda3/envs/indox/lib/python3.11/site-packages (from indoxArcg) (2.1.3)\n",
      "Requirement already satisfied: pandas in /Users/parsanemati/miniconda3/envs/indox/lib/python3.11/site-packages (from indoxArcg) (2.2.3)\n",
      "Requirement already satisfied: protobuf in /Users/parsanemati/miniconda3/envs/indox/lib/python3.11/site-packages (from indoxArcg) (6.30.1)\n",
      "Requirement already satisfied: pydantic in /Users/parsanemati/miniconda3/envs/indox/lib/python3.11/site-packages (from indoxArcg) (2.10.6)\n",
      "Requirement already satisfied: PyPDF2 in /Users/parsanemati/miniconda3/envs/indox/lib/python3.11/site-packages (from indoxArcg) (3.0.1)\n",
      "Requirement already satisfied: python-dotenv in /Users/parsanemati/miniconda3/envs/indox/lib/python3.11/site-packages (from indoxArcg) (1.0.1)\n",
      "Requirement already satisfied: Requests in /Users/parsanemati/miniconda3/envs/indox/lib/python3.11/site-packages (from indoxArcg) (2.32.3)\n",
      "Requirement already satisfied: setuptools in /Users/parsanemati/miniconda3/envs/indox/lib/python3.11/site-packages (from indoxArcg) (75.8.0)\n",
      "Requirement already satisfied: tenacity in /Users/parsanemati/miniconda3/envs/indox/lib/python3.11/site-packages (from indoxArcg) (9.0.0)\n",
      "Requirement already satisfied: tiktoken in /Users/parsanemati/miniconda3/envs/indox/lib/python3.11/site-packages (from indoxArcg) (0.9.0)\n",
      "Requirement already satisfied: tokenizers in /Users/parsanemati/miniconda3/envs/indox/lib/python3.11/site-packages (from indoxArcg) (0.21.1)\n",
      "Requirement already satisfied: umap_learn in /Users/parsanemati/miniconda3/envs/indox/lib/python3.11/site-packages (from indoxArcg) (0.5.7)\n",
      "Requirement already satisfied: unstructured in /Users/parsanemati/miniconda3/envs/indox/lib/python3.11/site-packages (from indoxArcg) (0.17.2)\n",
      "Requirement already satisfied: nltk in /Users/parsanemati/miniconda3/envs/indox/lib/python3.11/site-packages (from indoxArcg) (3.9.1)\n",
      "Requirement already satisfied: pillow_heif in /Users/parsanemati/miniconda3/envs/indox/lib/python3.11/site-packages (from indoxArcg) (0.22.0)\n",
      "Requirement already satisfied: rank_bm25 in /Users/parsanemati/miniconda3/envs/indox/lib/python3.11/site-packages (from indoxArcg) (0.2.2)\n",
      "Requirement already satisfied: click in /Users/parsanemati/miniconda3/envs/indox/lib/python3.11/site-packages (from nltk->indoxArcg) (8.1.8)\n",
      "Requirement already satisfied: joblib in /Users/parsanemati/miniconda3/envs/indox/lib/python3.11/site-packages (from nltk->indoxArcg) (1.4.2)\n",
      "Requirement already satisfied: regex>=2021.8.3 in /Users/parsanemati/miniconda3/envs/indox/lib/python3.11/site-packages (from nltk->indoxArcg) (2024.11.6)\n",
      "Requirement already satisfied: tqdm in /Users/parsanemati/miniconda3/envs/indox/lib/python3.11/site-packages (from nltk->indoxArcg) (4.67.1)\n",
      "Requirement already satisfied: python-dateutil>=2.8.2 in /Users/parsanemati/miniconda3/envs/indox/lib/python3.11/site-packages (from pandas->indoxArcg) (2.9.0.post0)\n",
      "Requirement already satisfied: pytz>=2020.1 in /Users/parsanemati/miniconda3/envs/indox/lib/python3.11/site-packages (from pandas->indoxArcg) (2025.1)\n",
      "Requirement already satisfied: tzdata>=2022.7 in /Users/parsanemati/miniconda3/envs/indox/lib/python3.11/site-packages (from pandas->indoxArcg) (2025.1)\n",
      "Requirement already satisfied: pillow>=10.1.0 in /Users/parsanemati/miniconda3/envs/indox/lib/python3.11/site-packages (from pillow_heif->indoxArcg) (11.1.0)\n",
      "Requirement already satisfied: annotated-types>=0.6.0 in /Users/parsanemati/miniconda3/envs/indox/lib/python3.11/site-packages (from pydantic->indoxArcg) (0.7.0)\n",
      "Requirement already satisfied: pydantic-core==2.27.2 in /Users/parsanemati/miniconda3/envs/indox/lib/python3.11/site-packages (from pydantic->indoxArcg) (2.27.2)\n",
      "Requirement already satisfied: typing-extensions>=4.12.2 in /Users/parsanemati/miniconda3/envs/indox/lib/python3.11/site-packages (from pydantic->indoxArcg) (4.12.2)\n",
      "Requirement already satisfied: charset-normalizer<4,>=2 in /Users/parsanemati/miniconda3/envs/indox/lib/python3.11/site-packages (from Requests->indoxArcg) (3.4.1)\n",
      "Requirement already satisfied: idna<4,>=2.5 in /Users/parsanemati/miniconda3/envs/indox/lib/python3.11/site-packages (from Requests->indoxArcg) (3.10)\n",
      "Requirement already satisfied: urllib3<3,>=1.21.1 in /Users/parsanemati/miniconda3/envs/indox/lib/python3.11/site-packages (from Requests->indoxArcg) (2.3.0)\n",
      "Requirement already satisfied: certifi>=2017.4.17 in /Users/parsanemati/miniconda3/envs/indox/lib/python3.11/site-packages (from Requests->indoxArcg) (2025.1.31)\n",
      "Requirement already satisfied: huggingface-hub<1.0,>=0.16.4 in /Users/parsanemati/miniconda3/envs/indox/lib/python3.11/site-packages (from tokenizers->indoxArcg) (0.29.3)\n",
      "Requirement already satisfied: scipy>=1.3.1 in /Users/parsanemati/miniconda3/envs/indox/lib/python3.11/site-packages (from umap_learn->indoxArcg) (1.15.2)\n",
      "Requirement already satisfied: scikit-learn>=0.22 in /Users/parsanemati/miniconda3/envs/indox/lib/python3.11/site-packages (from umap_learn->indoxArcg) (1.6.1)\n",
      "Requirement already satisfied: numba>=0.51.2 in /Users/parsanemati/miniconda3/envs/indox/lib/python3.11/site-packages (from umap_learn->indoxArcg) (0.61.0)\n",
      "Requirement already satisfied: pynndescent>=0.5 in /Users/parsanemati/miniconda3/envs/indox/lib/python3.11/site-packages (from umap_learn->indoxArcg) (0.5.13)\n",
      "Requirement already satisfied: chardet in /Users/parsanemati/miniconda3/envs/indox/lib/python3.11/site-packages (from unstructured->indoxArcg) (5.2.0)\n",
      "Requirement already satisfied: filetype in /Users/parsanemati/miniconda3/envs/indox/lib/python3.11/site-packages (from unstructured->indoxArcg) (1.2.0)\n",
      "Requirement already satisfied: python-magic in /Users/parsanemati/miniconda3/envs/indox/lib/python3.11/site-packages (from unstructured->indoxArcg) (0.4.27)\n",
      "Requirement already satisfied: lxml in /Users/parsanemati/miniconda3/envs/indox/lib/python3.11/site-packages (from unstructured->indoxArcg) (5.3.1)\n",
      "Requirement already satisfied: beautifulsoup4 in /Users/parsanemati/miniconda3/envs/indox/lib/python3.11/site-packages (from unstructured->indoxArcg) (4.13.3)\n",
      "Requirement already satisfied: emoji in /Users/parsanemati/miniconda3/envs/indox/lib/python3.11/site-packages (from unstructured->indoxArcg) (2.14.1)\n",
      "Requirement already satisfied: dataclasses-json in /Users/parsanemati/miniconda3/envs/indox/lib/python3.11/site-packages (from unstructured->indoxArcg) (0.6.7)\n",
      "Requirement already satisfied: python-iso639 in /Users/parsanemati/miniconda3/envs/indox/lib/python3.11/site-packages (from unstructured->indoxArcg) (2025.2.18)\n",
      "Requirement already satisfied: langdetect in /Users/parsanemati/miniconda3/envs/indox/lib/python3.11/site-packages (from unstructured->indoxArcg) (1.0.9)\n",
      "Requirement already satisfied: rapidfuzz in /Users/parsanemati/miniconda3/envs/indox/lib/python3.11/site-packages (from unstructured->indoxArcg) (3.12.2)\n",
      "Requirement already satisfied: backoff in /Users/parsanemati/miniconda3/envs/indox/lib/python3.11/site-packages (from unstructured->indoxArcg) (2.2.1)\n",
      "Requirement already satisfied: unstructured-client in /Users/parsanemati/miniconda3/envs/indox/lib/python3.11/site-packages (from unstructured->indoxArcg) (0.31.3)\n",
      "Requirement already satisfied: wrapt in /Users/parsanemati/miniconda3/envs/indox/lib/python3.11/site-packages (from unstructured->indoxArcg) (1.17.2)\n",
      "Requirement already satisfied: psutil in /Users/parsanemati/miniconda3/envs/indox/lib/python3.11/site-packages (from unstructured->indoxArcg) (7.0.0)\n",
      "Requirement already satisfied: python-oxmsg in /Users/parsanemati/miniconda3/envs/indox/lib/python3.11/site-packages (from unstructured->indoxArcg) (0.0.2)\n",
      "Requirement already satisfied: html5lib in /Users/parsanemati/miniconda3/envs/indox/lib/python3.11/site-packages (from unstructured->indoxArcg) (1.1)\n",
      "Requirement already satisfied: filelock in /Users/parsanemati/miniconda3/envs/indox/lib/python3.11/site-packages (from huggingface-hub<1.0,>=0.16.4->tokenizers->indoxArcg) (3.18.0)\n",
      "Requirement already satisfied: fsspec>=2023.5.0 in /Users/parsanemati/miniconda3/envs/indox/lib/python3.11/site-packages (from huggingface-hub<1.0,>=0.16.4->tokenizers->indoxArcg) (2025.3.0)\n",
      "Requirement already satisfied: packaging>=20.9 in /Users/parsanemati/miniconda3/envs/indox/lib/python3.11/site-packages (from huggingface-hub<1.0,>=0.16.4->tokenizers->indoxArcg) (24.2)\n",
      "Requirement already satisfied: pyyaml>=5.1 in /Users/parsanemati/miniconda3/envs/indox/lib/python3.11/site-packages (from huggingface-hub<1.0,>=0.16.4->tokenizers->indoxArcg) (6.0.2)\n",
      "Requirement already satisfied: llvmlite<0.45,>=0.44.0dev0 in /Users/parsanemati/miniconda3/envs/indox/lib/python3.11/site-packages (from numba>=0.51.2->umap_learn->indoxArcg) (0.44.0)\n",
      "Requirement already satisfied: six>=1.5 in /Users/parsanemati/miniconda3/envs/indox/lib/python3.11/site-packages (from python-dateutil>=2.8.2->pandas->indoxArcg) (1.17.0)\n",
      "Requirement already satisfied: threadpoolctl>=3.1.0 in /Users/parsanemati/miniconda3/envs/indox/lib/python3.11/site-packages (from scikit-learn>=0.22->umap_learn->indoxArcg) (3.6.0)\n",
      "Requirement already satisfied: soupsieve>1.2 in /Users/parsanemati/miniconda3/envs/indox/lib/python3.11/site-packages (from beautifulsoup4->unstructured->indoxArcg) (2.6)\n",
      "Requirement already satisfied: marshmallow<4.0.0,>=3.18.0 in /Users/parsanemati/miniconda3/envs/indox/lib/python3.11/site-packages (from dataclasses-json->unstructured->indoxArcg) (3.26.1)\n",
      "Requirement already satisfied: typing-inspect<1,>=0.4.0 in /Users/parsanemati/miniconda3/envs/indox/lib/python3.11/site-packages (from dataclasses-json->unstructured->indoxArcg) (0.9.0)\n",
      "Requirement already satisfied: webencodings in /Users/parsanemati/miniconda3/envs/indox/lib/python3.11/site-packages (from html5lib->unstructured->indoxArcg) (0.5.1)\n",
      "Requirement already satisfied: olefile in /Users/parsanemati/miniconda3/envs/indox/lib/python3.11/site-packages (from python-oxmsg->unstructured->indoxArcg) (0.47)\n",
      "Requirement already satisfied: aiofiles>=24.1.0 in /Users/parsanemati/miniconda3/envs/indox/lib/python3.11/site-packages (from unstructured-client->unstructured->indoxArcg) (24.1.0)\n",
      "Requirement already satisfied: cryptography>=3.1 in /Users/parsanemati/miniconda3/envs/indox/lib/python3.11/site-packages (from unstructured-client->unstructured->indoxArcg) (44.0.2)\n",
      "Requirement already satisfied: eval-type-backport>=0.2.0 in /Users/parsanemati/miniconda3/envs/indox/lib/python3.11/site-packages (from unstructured-client->unstructured->indoxArcg) (0.2.2)\n",
      "Requirement already satisfied: httpx>=0.27.0 in /Users/parsanemati/miniconda3/envs/indox/lib/python3.11/site-packages (from unstructured-client->unstructured->indoxArcg) (0.28.1)\n",
      "Requirement already satisfied: nest-asyncio>=1.6.0 in /Users/parsanemati/miniconda3/envs/indox/lib/python3.11/site-packages (from unstructured-client->unstructured->indoxArcg) (1.6.0)\n",
      "Requirement already satisfied: pypdf>=4.0 in /Users/parsanemati/miniconda3/envs/indox/lib/python3.11/site-packages (from unstructured-client->unstructured->indoxArcg) (5.4.0)\n",
      "Requirement already satisfied: requests-toolbelt>=1.0.0 in /Users/parsanemati/miniconda3/envs/indox/lib/python3.11/site-packages (from unstructured-client->unstructured->indoxArcg) (1.0.0)\n",
      "Requirement already satisfied: typing-inspection>=0.4.0 in /Users/parsanemati/miniconda3/envs/indox/lib/python3.11/site-packages (from unstructured-client->unstructured->indoxArcg) (0.4.0)\n",
      "Requirement already satisfied: cffi>=1.12 in /Users/parsanemati/miniconda3/envs/indox/lib/python3.11/site-packages (from cryptography>=3.1->unstructured-client->unstructured->indoxArcg) (1.17.1)\n",
      "Requirement already satisfied: anyio in /Users/parsanemati/miniconda3/envs/indox/lib/python3.11/site-packages (from httpx>=0.27.0->unstructured-client->unstructured->indoxArcg) (4.9.0)\n",
      "Requirement already satisfied: httpcore==1.* in /Users/parsanemati/miniconda3/envs/indox/lib/python3.11/site-packages (from httpx>=0.27.0->unstructured-client->unstructured->indoxArcg) (1.0.7)\n",
      "Requirement already satisfied: h11<0.15,>=0.13 in /Users/parsanemati/miniconda3/envs/indox/lib/python3.11/site-packages (from httpcore==1.*->httpx>=0.27.0->unstructured-client->unstructured->indoxArcg) (0.14.0)\n",
      "Requirement already satisfied: mypy-extensions>=0.3.0 in /Users/parsanemati/miniconda3/envs/indox/lib/python3.11/site-packages (from typing-inspect<1,>=0.4.0->dataclasses-json->unstructured->indoxArcg) (1.0.0)\n",
      "Requirement already satisfied: pycparser in /Users/parsanemati/miniconda3/envs/indox/lib/python3.11/site-packages (from cffi>=1.12->cryptography>=3.1->unstructured-client->unstructured->indoxArcg) (2.22)\n",
      "Requirement already satisfied: sniffio>=1.1 in /Users/parsanemati/miniconda3/envs/indox/lib/python3.11/site-packages (from anyio->httpx>=0.27.0->unstructured-client->unstructured->indoxArcg) (1.3.1)\n",
      "Collecting chromadb\n",
      "  Downloading chromadb-0.6.3-py3-none-any.whl.metadata (6.8 kB)\n",
      "Collecting build>=1.0.3 (from chromadb)\n",
      "  Downloading build-1.2.2.post1-py3-none-any.whl.metadata (6.5 kB)\n",
      "Requirement already satisfied: pydantic>=1.9 in /Users/parsanemati/miniconda3/envs/indox/lib/python3.11/site-packages (from chromadb) (2.10.6)\n",
      "Collecting chroma-hnswlib==0.7.6 (from chromadb)\n",
      "  Downloading chroma_hnswlib-0.7.6-cp311-cp311-macosx_11_0_arm64.whl.metadata (252 bytes)\n",
      "Collecting fastapi>=0.95.2 (from chromadb)\n",
      "  Downloading fastapi-0.115.11-py3-none-any.whl.metadata (27 kB)\n",
      "Collecting uvicorn>=0.18.3 (from uvicorn[standard]>=0.18.3->chromadb)\n",
      "  Downloading uvicorn-0.34.0-py3-none-any.whl.metadata (6.5 kB)\n",
      "Requirement already satisfied: numpy>=1.22.5 in /Users/parsanemati/miniconda3/envs/indox/lib/python3.11/site-packages (from chromadb) (2.1.3)\n",
      "Collecting posthog>=2.4.0 (from chromadb)\n",
      "  Downloading posthog-3.21.0-py2.py3-none-any.whl.metadata (2.9 kB)\n",
      "Requirement already satisfied: typing_extensions>=4.5.0 in /Users/parsanemati/miniconda3/envs/indox/lib/python3.11/site-packages (from chromadb) (4.12.2)\n",
      "Collecting onnxruntime>=1.14.1 (from chromadb)\n",
      "  Downloading onnxruntime-1.21.0-cp311-cp311-macosx_13_0_universal2.whl.metadata (4.5 kB)\n",
      "Collecting opentelemetry-api>=1.2.0 (from chromadb)\n",
      "  Downloading opentelemetry_api-1.31.1-py3-none-any.whl.metadata (1.6 kB)\n",
      "Collecting opentelemetry-exporter-otlp-proto-grpc>=1.2.0 (from chromadb)\n",
      "  Downloading opentelemetry_exporter_otlp_proto_grpc-1.31.1-py3-none-any.whl.metadata (2.5 kB)\n",
      "Collecting opentelemetry-instrumentation-fastapi>=0.41b0 (from chromadb)\n",
      "  Downloading opentelemetry_instrumentation_fastapi-0.52b1-py3-none-any.whl.metadata (2.2 kB)\n",
      "Collecting opentelemetry-sdk>=1.2.0 (from chromadb)\n",
      "  Downloading opentelemetry_sdk-1.31.1-py3-none-any.whl.metadata (1.6 kB)\n",
      "Requirement already satisfied: tokenizers>=0.13.2 in /Users/parsanemati/miniconda3/envs/indox/lib/python3.11/site-packages (from chromadb) (0.21.1)\n",
      "Collecting pypika>=0.48.9 (from chromadb)\n",
      "  Downloading PyPika-0.48.9.tar.gz (67 kB)\n",
      "  Installing build dependencies ... \u001b[?25ldone\n",
      "\u001b[?25h  Getting requirements to build wheel ... \u001b[?25ldone\n",
      "\u001b[?25h  Preparing metadata (pyproject.toml) ... \u001b[?25ldone\n",
      "\u001b[?25hRequirement already satisfied: tqdm>=4.65.0 in /Users/parsanemati/miniconda3/envs/indox/lib/python3.11/site-packages (from chromadb) (4.67.1)\n",
      "Requirement already satisfied: overrides>=7.3.1 in /Users/parsanemati/miniconda3/envs/indox/lib/python3.11/site-packages (from chromadb) (7.7.0)\n",
      "Collecting importlib-resources (from chromadb)\n",
      "  Downloading importlib_resources-6.5.2-py3-none-any.whl.metadata (3.9 kB)\n",
      "Collecting grpcio>=1.58.0 (from chromadb)\n",
      "  Downloading grpcio-1.71.0-cp311-cp311-macosx_10_14_universal2.whl.metadata (3.8 kB)\n",
      "Collecting bcrypt>=4.0.1 (from chromadb)\n",
      "  Downloading bcrypt-4.3.0-cp39-abi3-macosx_10_12_universal2.whl.metadata (10 kB)\n",
      "Requirement already satisfied: typer>=0.9.0 in /Users/parsanemati/miniconda3/envs/indox/lib/python3.11/site-packages (from chromadb) (0.12.5)\n",
      "Collecting kubernetes>=28.1.0 (from chromadb)\n",
      "  Downloading kubernetes-32.0.1-py2.py3-none-any.whl.metadata (1.7 kB)\n",
      "Requirement already satisfied: tenacity>=8.2.3 in /Users/parsanemati/miniconda3/envs/indox/lib/python3.11/site-packages (from chromadb) (9.0.0)\n",
      "Requirement already satisfied: PyYAML>=6.0.0 in /Users/parsanemati/miniconda3/envs/indox/lib/python3.11/site-packages (from chromadb) (6.0.2)\n",
      "Collecting mmh3>=4.0.1 (from chromadb)\n",
      "  Downloading mmh3-5.1.0-cp311-cp311-macosx_11_0_arm64.whl.metadata (16 kB)\n",
      "Collecting orjson>=3.9.12 (from chromadb)\n",
      "  Downloading orjson-3.10.15-cp311-cp311-macosx_10_15_x86_64.macosx_11_0_arm64.macosx_10_15_universal2.whl.metadata (41 kB)\n",
      "Requirement already satisfied: httpx>=0.27.0 in /Users/parsanemati/miniconda3/envs/indox/lib/python3.11/site-packages (from chromadb) (0.28.1)\n",
      "Requirement already satisfied: rich>=10.11.0 in /Users/parsanemati/miniconda3/envs/indox/lib/python3.11/site-packages (from chromadb) (13.9.4)\n",
      "Requirement already satisfied: packaging>=19.1 in /Users/parsanemati/miniconda3/envs/indox/lib/python3.11/site-packages (from build>=1.0.3->chromadb) (24.2)\n",
      "Collecting pyproject_hooks (from build>=1.0.3->chromadb)\n",
      "  Downloading pyproject_hooks-1.2.0-py3-none-any.whl.metadata (1.3 kB)\n",
      "Collecting starlette<0.47.0,>=0.40.0 (from fastapi>=0.95.2->chromadb)\n",
      "  Downloading starlette-0.46.1-py3-none-any.whl.metadata (6.2 kB)\n",
      "Requirement already satisfied: anyio in /Users/parsanemati/miniconda3/envs/indox/lib/python3.11/site-packages (from httpx>=0.27.0->chromadb) (4.9.0)\n",
      "Requirement already satisfied: certifi in /Users/parsanemati/miniconda3/envs/indox/lib/python3.11/site-packages (from httpx>=0.27.0->chromadb) (2025.1.31)\n",
      "Requirement already satisfied: httpcore==1.* in /Users/parsanemati/miniconda3/envs/indox/lib/python3.11/site-packages (from httpx>=0.27.0->chromadb) (1.0.7)\n",
      "Requirement already satisfied: idna in /Users/parsanemati/miniconda3/envs/indox/lib/python3.11/site-packages (from httpx>=0.27.0->chromadb) (3.10)\n",
      "Requirement already satisfied: h11<0.15,>=0.13 in /Users/parsanemati/miniconda3/envs/indox/lib/python3.11/site-packages (from httpcore==1.*->httpx>=0.27.0->chromadb) (0.14.0)\n",
      "Requirement already satisfied: six>=1.9.0 in /Users/parsanemati/miniconda3/envs/indox/lib/python3.11/site-packages (from kubernetes>=28.1.0->chromadb) (1.17.0)\n",
      "Requirement already satisfied: python-dateutil>=2.5.3 in /Users/parsanemati/miniconda3/envs/indox/lib/python3.11/site-packages (from kubernetes>=28.1.0->chromadb) (2.9.0.post0)\n",
      "Collecting google-auth>=1.0.1 (from kubernetes>=28.1.0->chromadb)\n",
      "  Downloading google_auth-2.38.0-py2.py3-none-any.whl.metadata (4.8 kB)\n",
      "Requirement already satisfied: websocket-client!=0.40.0,!=0.41.*,!=0.42.*,>=0.32.0 in /Users/parsanemati/miniconda3/envs/indox/lib/python3.11/site-packages (from kubernetes>=28.1.0->chromadb) (1.8.0)\n",
      "Requirement already satisfied: requests in /Users/parsanemati/miniconda3/envs/indox/lib/python3.11/site-packages (from kubernetes>=28.1.0->chromadb) (2.32.3)\n",
      "Collecting requests-oauthlib (from kubernetes>=28.1.0->chromadb)\n",
      "  Downloading requests_oauthlib-2.0.0-py2.py3-none-any.whl.metadata (11 kB)\n",
      "Collecting oauthlib>=3.2.2 (from kubernetes>=28.1.0->chromadb)\n",
      "  Downloading oauthlib-3.2.2-py3-none-any.whl.metadata (7.5 kB)\n",
      "Requirement already satisfied: urllib3>=1.24.2 in /Users/parsanemati/miniconda3/envs/indox/lib/python3.11/site-packages (from kubernetes>=28.1.0->chromadb) (2.3.0)\n",
      "Collecting durationpy>=0.7 (from kubernetes>=28.1.0->chromadb)\n",
      "  Downloading durationpy-0.9-py3-none-any.whl.metadata (338 bytes)\n",
      "Collecting coloredlogs (from onnxruntime>=1.14.1->chromadb)\n",
      "  Downloading coloredlogs-15.0.1-py2.py3-none-any.whl.metadata (12 kB)\n",
      "Collecting flatbuffers (from onnxruntime>=1.14.1->chromadb)\n",
      "  Downloading flatbuffers-25.2.10-py2.py3-none-any.whl.metadata (875 bytes)\n",
      "Requirement already satisfied: protobuf in /Users/parsanemati/miniconda3/envs/indox/lib/python3.11/site-packages (from onnxruntime>=1.14.1->chromadb) (6.30.1)\n",
      "Requirement already satisfied: sympy in /Users/parsanemati/miniconda3/envs/indox/lib/python3.11/site-packages (from onnxruntime>=1.14.1->chromadb) (1.13.1)\n",
      "Collecting deprecated>=1.2.6 (from opentelemetry-api>=1.2.0->chromadb)\n",
      "  Downloading Deprecated-1.2.18-py2.py3-none-any.whl.metadata (5.7 kB)\n",
      "Collecting importlib-metadata<8.7.0,>=6.0 (from opentelemetry-api>=1.2.0->chromadb)\n",
      "  Downloading importlib_metadata-8.6.1-py3-none-any.whl.metadata (4.7 kB)\n",
      "Collecting googleapis-common-protos~=1.52 (from opentelemetry-exporter-otlp-proto-grpc>=1.2.0->chromadb)\n",
      "  Downloading googleapis_common_protos-1.69.2-py3-none-any.whl.metadata (9.3 kB)\n",
      "Collecting opentelemetry-exporter-otlp-proto-common==1.31.1 (from opentelemetry-exporter-otlp-proto-grpc>=1.2.0->chromadb)\n",
      "  Downloading opentelemetry_exporter_otlp_proto_common-1.31.1-py3-none-any.whl.metadata (1.9 kB)\n",
      "Collecting opentelemetry-proto==1.31.1 (from opentelemetry-exporter-otlp-proto-grpc>=1.2.0->chromadb)\n",
      "  Downloading opentelemetry_proto-1.31.1-py3-none-any.whl.metadata (2.4 kB)\n",
      "Collecting protobuf (from onnxruntime>=1.14.1->chromadb)\n",
      "  Downloading protobuf-5.29.4-cp38-abi3-macosx_10_9_universal2.whl.metadata (592 bytes)\n",
      "Collecting opentelemetry-instrumentation-asgi==0.52b1 (from opentelemetry-instrumentation-fastapi>=0.41b0->chromadb)\n",
      "  Downloading opentelemetry_instrumentation_asgi-0.52b1-py3-none-any.whl.metadata (2.1 kB)\n",
      "Collecting opentelemetry-instrumentation==0.52b1 (from opentelemetry-instrumentation-fastapi>=0.41b0->chromadb)\n",
      "  Downloading opentelemetry_instrumentation-0.52b1-py3-none-any.whl.metadata (6.8 kB)\n",
      "Collecting opentelemetry-semantic-conventions==0.52b1 (from opentelemetry-instrumentation-fastapi>=0.41b0->chromadb)\n",
      "  Downloading opentelemetry_semantic_conventions-0.52b1-py3-none-any.whl.metadata (2.5 kB)\n",
      "Collecting opentelemetry-util-http==0.52b1 (from opentelemetry-instrumentation-fastapi>=0.41b0->chromadb)\n",
      "  Downloading opentelemetry_util_http-0.52b1-py3-none-any.whl.metadata (2.6 kB)\n",
      "Requirement already satisfied: wrapt<2.0.0,>=1.0.0 in /Users/parsanemati/miniconda3/envs/indox/lib/python3.11/site-packages (from opentelemetry-instrumentation==0.52b1->opentelemetry-instrumentation-fastapi>=0.41b0->chromadb) (1.17.2)\n",
      "Collecting asgiref~=3.0 (from opentelemetry-instrumentation-asgi==0.52b1->opentelemetry-instrumentation-fastapi>=0.41b0->chromadb)\n",
      "  Downloading asgiref-3.8.1-py3-none-any.whl.metadata (9.3 kB)\n",
      "Collecting monotonic>=1.5 (from posthog>=2.4.0->chromadb)\n",
      "  Downloading monotonic-1.6-py2.py3-none-any.whl.metadata (1.5 kB)\n",
      "Requirement already satisfied: backoff>=1.10.0 in /Users/parsanemati/miniconda3/envs/indox/lib/python3.11/site-packages (from posthog>=2.4.0->chromadb) (2.2.1)\n",
      "Requirement already satisfied: distro>=1.5.0 in /Users/parsanemati/miniconda3/envs/indox/lib/python3.11/site-packages (from posthog>=2.4.0->chromadb) (1.9.0)\n",
      "Requirement already satisfied: annotated-types>=0.6.0 in /Users/parsanemati/miniconda3/envs/indox/lib/python3.11/site-packages (from pydantic>=1.9->chromadb) (0.7.0)\n",
      "Requirement already satisfied: pydantic-core==2.27.2 in /Users/parsanemati/miniconda3/envs/indox/lib/python3.11/site-packages (from pydantic>=1.9->chromadb) (2.27.2)\n",
      "Requirement already satisfied: markdown-it-py>=2.2.0 in /Users/parsanemati/miniconda3/envs/indox/lib/python3.11/site-packages (from rich>=10.11.0->chromadb) (3.0.0)\n",
      "Requirement already satisfied: pygments<3.0.0,>=2.13.0 in /Users/parsanemati/miniconda3/envs/indox/lib/python3.11/site-packages (from rich>=10.11.0->chromadb) (2.19.1)\n",
      "Requirement already satisfied: huggingface-hub<1.0,>=0.16.4 in /Users/parsanemati/miniconda3/envs/indox/lib/python3.11/site-packages (from tokenizers>=0.13.2->chromadb) (0.29.3)\n",
      "Requirement already satisfied: click>=8.0.0 in /Users/parsanemati/miniconda3/envs/indox/lib/python3.11/site-packages (from typer>=0.9.0->chromadb) (8.1.8)\n",
      "Requirement already satisfied: shellingham>=1.3.0 in /Users/parsanemati/miniconda3/envs/indox/lib/python3.11/site-packages (from typer>=0.9.0->chromadb) (1.5.4)\n",
      "Collecting httptools>=0.6.3 (from uvicorn[standard]>=0.18.3->chromadb)\n",
      "  Downloading httptools-0.6.4-cp311-cp311-macosx_11_0_arm64.whl.metadata (3.6 kB)\n",
      "Requirement already satisfied: python-dotenv>=0.13 in /Users/parsanemati/miniconda3/envs/indox/lib/python3.11/site-packages (from uvicorn[standard]>=0.18.3->chromadb) (1.0.1)\n",
      "Collecting uvloop!=0.15.0,!=0.15.1,>=0.14.0 (from uvicorn[standard]>=0.18.3->chromadb)\n",
      "  Downloading uvloop-0.21.0-cp311-cp311-macosx_10_9_universal2.whl.metadata (4.9 kB)\n",
      "Collecting watchfiles>=0.13 (from uvicorn[standard]>=0.18.3->chromadb)\n",
      "  Downloading watchfiles-1.0.4-cp311-cp311-macosx_11_0_arm64.whl.metadata (4.9 kB)\n",
      "Collecting websockets>=10.4 (from uvicorn[standard]>=0.18.3->chromadb)\n",
      "  Downloading websockets-15.0.1-cp311-cp311-macosx_11_0_arm64.whl.metadata (6.8 kB)\n",
      "Collecting cachetools<6.0,>=2.0.0 (from google-auth>=1.0.1->kubernetes>=28.1.0->chromadb)\n",
      "  Downloading cachetools-5.5.2-py3-none-any.whl.metadata (5.4 kB)\n",
      "Collecting pyasn1-modules>=0.2.1 (from google-auth>=1.0.1->kubernetes>=28.1.0->chromadb)\n",
      "  Downloading pyasn1_modules-0.4.1-py3-none-any.whl.metadata (3.5 kB)\n",
      "Collecting rsa<5,>=3.1.4 (from google-auth>=1.0.1->kubernetes>=28.1.0->chromadb)\n",
      "  Downloading rsa-4.9-py3-none-any.whl.metadata (4.2 kB)\n",
      "Requirement already satisfied: filelock in /Users/parsanemati/miniconda3/envs/indox/lib/python3.11/site-packages (from huggingface-hub<1.0,>=0.16.4->tokenizers>=0.13.2->chromadb) (3.18.0)\n",
      "Requirement already satisfied: fsspec>=2023.5.0 in /Users/parsanemati/miniconda3/envs/indox/lib/python3.11/site-packages (from huggingface-hub<1.0,>=0.16.4->tokenizers>=0.13.2->chromadb) (2025.3.0)\n",
      "Collecting zipp>=3.20 (from importlib-metadata<8.7.0,>=6.0->opentelemetry-api>=1.2.0->chromadb)\n",
      "  Downloading zipp-3.21.0-py3-none-any.whl.metadata (3.7 kB)\n",
      "Requirement already satisfied: mdurl~=0.1 in /Users/parsanemati/miniconda3/envs/indox/lib/python3.11/site-packages (from markdown-it-py>=2.2.0->rich>=10.11.0->chromadb) (0.1.2)\n",
      "Requirement already satisfied: charset-normalizer<4,>=2 in /Users/parsanemati/miniconda3/envs/indox/lib/python3.11/site-packages (from requests->kubernetes>=28.1.0->chromadb) (3.4.1)\n",
      "Requirement already satisfied: sniffio>=1.1 in /Users/parsanemati/miniconda3/envs/indox/lib/python3.11/site-packages (from anyio->httpx>=0.27.0->chromadb) (1.3.1)\n",
      "Collecting humanfriendly>=9.1 (from coloredlogs->onnxruntime>=1.14.1->chromadb)\n",
      "  Downloading humanfriendly-10.0-py2.py3-none-any.whl.metadata (9.2 kB)\n",
      "Requirement already satisfied: mpmath<1.4,>=1.1.0 in /Users/parsanemati/miniconda3/envs/indox/lib/python3.11/site-packages (from sympy->onnxruntime>=1.14.1->chromadb) (1.3.0)\n",
      "Collecting pyasn1<0.7.0,>=0.4.6 (from pyasn1-modules>=0.2.1->google-auth>=1.0.1->kubernetes>=28.1.0->chromadb)\n",
      "  Downloading pyasn1-0.6.1-py3-none-any.whl.metadata (8.4 kB)\n",
      "Downloading chromadb-0.6.3-py3-none-any.whl (611 kB)\n",
      "\u001b[2K   \u001b[90m━━━━━━━━━━━━━━━━━━━━━━━━━━━━━━━━━━━━━━━━\u001b[0m \u001b[32m611.1/611.1 kB\u001b[0m \u001b[31m12.7 MB/s\u001b[0m eta \u001b[36m0:00:00\u001b[0m\n",
      "\u001b[?25hDownloading chroma_hnswlib-0.7.6-cp311-cp311-macosx_11_0_arm64.whl (185 kB)\n",
      "Downloading bcrypt-4.3.0-cp39-abi3-macosx_10_12_universal2.whl (498 kB)\n",
      "Downloading build-1.2.2.post1-py3-none-any.whl (22 kB)\n",
      "Downloading fastapi-0.115.11-py3-none-any.whl (94 kB)\n",
      "Downloading grpcio-1.71.0-cp311-cp311-macosx_10_14_universal2.whl (11.3 MB)\n",
      "\u001b[2K   \u001b[90m━━━━━━━━━━━━━━━━━━━━━━━━━━━━━━━━━━━━━━━━\u001b[0m \u001b[32m11.3/11.3 MB\u001b[0m \u001b[31m47.1 MB/s\u001b[0m eta \u001b[36m0:00:00\u001b[0ma \u001b[36m0:00:01\u001b[0m\n",
      "\u001b[?25hDownloading kubernetes-32.0.1-py2.py3-none-any.whl (2.0 MB)\n",
      "\u001b[2K   \u001b[90m━━━━━━━━━━━━━━━━━━━━━━━━━━━━━━━━━━━━━━━━\u001b[0m \u001b[32m2.0/2.0 MB\u001b[0m \u001b[31m52.8 MB/s\u001b[0m eta \u001b[36m0:00:00\u001b[0m\n",
      "\u001b[?25hDownloading mmh3-5.1.0-cp311-cp311-macosx_11_0_arm64.whl (40 kB)\n",
      "Downloading onnxruntime-1.21.0-cp311-cp311-macosx_13_0_universal2.whl (33.6 MB)\n",
      "\u001b[2K   \u001b[90m━━━━━━━━━━━━━━━━━━━━━━━━━━━━━━━━━━━━━━━━\u001b[0m \u001b[32m33.6/33.6 MB\u001b[0m \u001b[31m40.6 MB/s\u001b[0m eta \u001b[36m0:00:00\u001b[0m00:01\u001b[0m00:01\u001b[0m\n",
      "\u001b[?25hDownloading opentelemetry_api-1.31.1-py3-none-any.whl (65 kB)\n",
      "Downloading opentelemetry_exporter_otlp_proto_grpc-1.31.1-py3-none-any.whl (18 kB)\n",
      "Downloading opentelemetry_exporter_otlp_proto_common-1.31.1-py3-none-any.whl (18 kB)\n",
      "Downloading opentelemetry_proto-1.31.1-py3-none-any.whl (55 kB)\n",
      "Downloading opentelemetry_instrumentation_fastapi-0.52b1-py3-none-any.whl (12 kB)\n",
      "Downloading opentelemetry_instrumentation-0.52b1-py3-none-any.whl (31 kB)\n",
      "Downloading opentelemetry_instrumentation_asgi-0.52b1-py3-none-any.whl (16 kB)\n",
      "Downloading opentelemetry_semantic_conventions-0.52b1-py3-none-any.whl (183 kB)\n",
      "Downloading opentelemetry_util_http-0.52b1-py3-none-any.whl (7.3 kB)\n",
      "Downloading opentelemetry_sdk-1.31.1-py3-none-any.whl (118 kB)\n",
      "Downloading orjson-3.10.15-cp311-cp311-macosx_10_15_x86_64.macosx_11_0_arm64.macosx_10_15_universal2.whl (249 kB)\n",
      "Downloading posthog-3.21.0-py2.py3-none-any.whl (79 kB)\n",
      "Downloading uvicorn-0.34.0-py3-none-any.whl (62 kB)\n",
      "Downloading importlib_resources-6.5.2-py3-none-any.whl (37 kB)\n",
      "Downloading Deprecated-1.2.18-py2.py3-none-any.whl (10.0 kB)\n",
      "Downloading durationpy-0.9-py3-none-any.whl (3.5 kB)\n",
      "Downloading google_auth-2.38.0-py2.py3-none-any.whl (210 kB)\n",
      "Downloading googleapis_common_protos-1.69.2-py3-none-any.whl (293 kB)\n",
      "Downloading httptools-0.6.4-cp311-cp311-macosx_11_0_arm64.whl (103 kB)\n",
      "Downloading importlib_metadata-8.6.1-py3-none-any.whl (26 kB)\n",
      "Downloading monotonic-1.6-py2.py3-none-any.whl (8.2 kB)\n",
      "Downloading oauthlib-3.2.2-py3-none-any.whl (151 kB)\n",
      "Downloading protobuf-5.29.4-cp38-abi3-macosx_10_9_universal2.whl (417 kB)\n",
      "Downloading starlette-0.46.1-py3-none-any.whl (71 kB)\n",
      "Downloading uvloop-0.21.0-cp311-cp311-macosx_10_9_universal2.whl (1.4 MB)\n",
      "\u001b[2K   \u001b[90m━━━━━━━━━━━━━━━━━━━━━━━━━━━━━━━━━━━━━━━━\u001b[0m \u001b[32m1.4/1.4 MB\u001b[0m \u001b[31m32.7 MB/s\u001b[0m eta \u001b[36m0:00:00\u001b[0m\n",
      "\u001b[?25hDownloading watchfiles-1.0.4-cp311-cp311-macosx_11_0_arm64.whl (384 kB)\n",
      "Downloading websockets-15.0.1-cp311-cp311-macosx_11_0_arm64.whl (173 kB)\n",
      "Downloading coloredlogs-15.0.1-py2.py3-none-any.whl (46 kB)\n",
      "Downloading flatbuffers-25.2.10-py2.py3-none-any.whl (30 kB)\n",
      "Downloading pyproject_hooks-1.2.0-py3-none-any.whl (10 kB)\n",
      "Downloading requests_oauthlib-2.0.0-py2.py3-none-any.whl (24 kB)\n",
      "Downloading asgiref-3.8.1-py3-none-any.whl (23 kB)\n",
      "Downloading cachetools-5.5.2-py3-none-any.whl (10 kB)\n",
      "Downloading humanfriendly-10.0-py2.py3-none-any.whl (86 kB)\n",
      "Downloading pyasn1_modules-0.4.1-py3-none-any.whl (181 kB)\n",
      "Downloading rsa-4.9-py3-none-any.whl (34 kB)\n",
      "Downloading zipp-3.21.0-py3-none-any.whl (9.6 kB)\n",
      "Downloading pyasn1-0.6.1-py3-none-any.whl (83 kB)\n",
      "Building wheels for collected packages: pypika\n",
      "  Building wheel for pypika (pyproject.toml) ... \u001b[?25ldone\n",
      "\u001b[?25h  Created wheel for pypika: filename=pypika-0.48.9-py2.py3-none-any.whl size=53801 sha256=7f81ed6f159f8d4e929e84591a5d5ccb8256ca2906f0eddd82904d2ae8608fd2\n",
      "  Stored in directory: /Users/parsanemati/Library/Caches/pip/wheels/a3/01/bd/4c40ceb9d5354160cb186dcc153360f4ab7eb23e2b24daf96d\n",
      "Successfully built pypika\n",
      "Installing collected packages: pypika, monotonic, flatbuffers, durationpy, zipp, websockets, uvloop, uvicorn, pyproject_hooks, pyasn1, protobuf, orjson, opentelemetry-util-http, oauthlib, mmh3, importlib-resources, humanfriendly, httptools, grpcio, deprecated, chroma-hnswlib, cachetools, bcrypt, asgiref, watchfiles, starlette, rsa, requests-oauthlib, pyasn1-modules, posthog, opentelemetry-proto, importlib-metadata, googleapis-common-protos, coloredlogs, build, opentelemetry-exporter-otlp-proto-common, opentelemetry-api, onnxruntime, google-auth, fastapi, opentelemetry-semantic-conventions, kubernetes, opentelemetry-sdk, opentelemetry-instrumentation, opentelemetry-instrumentation-asgi, opentelemetry-exporter-otlp-proto-grpc, opentelemetry-instrumentation-fastapi, chromadb\n",
      "  Attempting uninstall: protobuf\n",
      "    Found existing installation: protobuf 6.30.1\n",
      "    Uninstalling protobuf-6.30.1:\n",
      "      Successfully uninstalled protobuf-6.30.1\n",
      "Successfully installed asgiref-3.8.1 bcrypt-4.3.0 build-1.2.2.post1 cachetools-5.5.2 chroma-hnswlib-0.7.6 chromadb-0.6.3 coloredlogs-15.0.1 deprecated-1.2.18 durationpy-0.9 fastapi-0.115.11 flatbuffers-25.2.10 google-auth-2.38.0 googleapis-common-protos-1.69.2 grpcio-1.71.0 httptools-0.6.4 humanfriendly-10.0 importlib-metadata-8.6.1 importlib-resources-6.5.2 kubernetes-32.0.1 mmh3-5.1.0 monotonic-1.6 oauthlib-3.2.2 onnxruntime-1.21.0 opentelemetry-api-1.31.1 opentelemetry-exporter-otlp-proto-common-1.31.1 opentelemetry-exporter-otlp-proto-grpc-1.31.1 opentelemetry-instrumentation-0.52b1 opentelemetry-instrumentation-asgi-0.52b1 opentelemetry-instrumentation-fastapi-0.52b1 opentelemetry-proto-1.31.1 opentelemetry-sdk-1.31.1 opentelemetry-semantic-conventions-0.52b1 opentelemetry-util-http-0.52b1 orjson-3.10.15 posthog-3.21.0 protobuf-5.29.4 pyasn1-0.6.1 pyasn1-modules-0.4.1 pypika-0.48.9 pyproject_hooks-1.2.0 requests-oauthlib-2.0.0 rsa-4.9 starlette-0.46.1 uvicorn-0.34.0 uvloop-0.21.0 watchfiles-1.0.4 websockets-15.0.1 zipp-3.21.0\n",
      "Requirement already satisfied: semantic_text_splitter in /Users/parsanemati/miniconda3/envs/indox/lib/python3.11/site-packages (0.25.0)\n",
      "Collecting sentence-transformers\n",
      "  Downloading sentence_transformers-3.4.1-py3-none-any.whl.metadata (10 kB)\n",
      "Requirement already satisfied: transformers<5.0.0,>=4.41.0 in /Users/parsanemati/miniconda3/envs/indox/lib/python3.11/site-packages (from sentence-transformers) (4.50.0)\n",
      "Requirement already satisfied: tqdm in /Users/parsanemati/miniconda3/envs/indox/lib/python3.11/site-packages (from sentence-transformers) (4.67.1)\n",
      "Requirement already satisfied: torch>=1.11.0 in /Users/parsanemati/miniconda3/envs/indox/lib/python3.11/site-packages (from sentence-transformers) (2.6.0)\n",
      "Requirement already satisfied: scikit-learn in /Users/parsanemati/miniconda3/envs/indox/lib/python3.11/site-packages (from sentence-transformers) (1.6.1)\n",
      "Requirement already satisfied: scipy in /Users/parsanemati/miniconda3/envs/indox/lib/python3.11/site-packages (from sentence-transformers) (1.15.2)\n",
      "Requirement already satisfied: huggingface-hub>=0.20.0 in /Users/parsanemati/miniconda3/envs/indox/lib/python3.11/site-packages (from sentence-transformers) (0.29.3)\n",
      "Requirement already satisfied: Pillow in /Users/parsanemati/miniconda3/envs/indox/lib/python3.11/site-packages (from sentence-transformers) (11.1.0)\n",
      "Requirement already satisfied: filelock in /Users/parsanemati/miniconda3/envs/indox/lib/python3.11/site-packages (from huggingface-hub>=0.20.0->sentence-transformers) (3.18.0)\n",
      "Requirement already satisfied: fsspec>=2023.5.0 in /Users/parsanemati/miniconda3/envs/indox/lib/python3.11/site-packages (from huggingface-hub>=0.20.0->sentence-transformers) (2025.3.0)\n",
      "Requirement already satisfied: packaging>=20.9 in /Users/parsanemati/miniconda3/envs/indox/lib/python3.11/site-packages (from huggingface-hub>=0.20.0->sentence-transformers) (24.2)\n",
      "Requirement already satisfied: pyyaml>=5.1 in /Users/parsanemati/miniconda3/envs/indox/lib/python3.11/site-packages (from huggingface-hub>=0.20.0->sentence-transformers) (6.0.2)\n",
      "Requirement already satisfied: requests in /Users/parsanemati/miniconda3/envs/indox/lib/python3.11/site-packages (from huggingface-hub>=0.20.0->sentence-transformers) (2.32.3)\n",
      "Requirement already satisfied: typing-extensions>=3.7.4.3 in /Users/parsanemati/miniconda3/envs/indox/lib/python3.11/site-packages (from huggingface-hub>=0.20.0->sentence-transformers) (4.12.2)\n",
      "Requirement already satisfied: networkx in /Users/parsanemati/miniconda3/envs/indox/lib/python3.11/site-packages (from torch>=1.11.0->sentence-transformers) (3.4.2)\n",
      "Requirement already satisfied: jinja2 in /Users/parsanemati/miniconda3/envs/indox/lib/python3.11/site-packages (from torch>=1.11.0->sentence-transformers) (3.1.6)\n",
      "Requirement already satisfied: sympy==1.13.1 in /Users/parsanemati/miniconda3/envs/indox/lib/python3.11/site-packages (from torch>=1.11.0->sentence-transformers) (1.13.1)\n",
      "Requirement already satisfied: mpmath<1.4,>=1.1.0 in /Users/parsanemati/miniconda3/envs/indox/lib/python3.11/site-packages (from sympy==1.13.1->torch>=1.11.0->sentence-transformers) (1.3.0)\n",
      "Requirement already satisfied: numpy>=1.17 in /Users/parsanemati/miniconda3/envs/indox/lib/python3.11/site-packages (from transformers<5.0.0,>=4.41.0->sentence-transformers) (2.1.3)\n",
      "Requirement already satisfied: regex!=2019.12.17 in /Users/parsanemati/miniconda3/envs/indox/lib/python3.11/site-packages (from transformers<5.0.0,>=4.41.0->sentence-transformers) (2024.11.6)\n",
      "Requirement already satisfied: tokenizers<0.22,>=0.21 in /Users/parsanemati/miniconda3/envs/indox/lib/python3.11/site-packages (from transformers<5.0.0,>=4.41.0->sentence-transformers) (0.21.1)\n",
      "Requirement already satisfied: safetensors>=0.4.3 in /Users/parsanemati/miniconda3/envs/indox/lib/python3.11/site-packages (from transformers<5.0.0,>=4.41.0->sentence-transformers) (0.5.3)\n",
      "Requirement already satisfied: joblib>=1.2.0 in /Users/parsanemati/miniconda3/envs/indox/lib/python3.11/site-packages (from scikit-learn->sentence-transformers) (1.4.2)\n",
      "Requirement already satisfied: threadpoolctl>=3.1.0 in /Users/parsanemati/miniconda3/envs/indox/lib/python3.11/site-packages (from scikit-learn->sentence-transformers) (3.6.0)\n",
      "Requirement already satisfied: MarkupSafe>=2.0 in /Users/parsanemati/miniconda3/envs/indox/lib/python3.11/site-packages (from jinja2->torch>=1.11.0->sentence-transformers) (3.0.2)\n",
      "Requirement already satisfied: charset-normalizer<4,>=2 in /Users/parsanemati/miniconda3/envs/indox/lib/python3.11/site-packages (from requests->huggingface-hub>=0.20.0->sentence-transformers) (3.4.1)\n",
      "Requirement already satisfied: idna<4,>=2.5 in /Users/parsanemati/miniconda3/envs/indox/lib/python3.11/site-packages (from requests->huggingface-hub>=0.20.0->sentence-transformers) (3.10)\n",
      "Requirement already satisfied: urllib3<3,>=1.21.1 in /Users/parsanemati/miniconda3/envs/indox/lib/python3.11/site-packages (from requests->huggingface-hub>=0.20.0->sentence-transformers) (2.3.0)\n",
      "Requirement already satisfied: certifi>=2017.4.17 in /Users/parsanemati/miniconda3/envs/indox/lib/python3.11/site-packages (from requests->huggingface-hub>=0.20.0->sentence-transformers) (2025.1.31)\n",
      "Downloading sentence_transformers-3.4.1-py3-none-any.whl (275 kB)\n",
      "Installing collected packages: sentence-transformers\n",
      "Successfully installed sentence-transformers-3.4.1\n",
      "Collecting pdfminer.six\n",
      "  Downloading pdfminer.six-20240706-py3-none-any.whl.metadata (4.1 kB)\n",
      "Requirement already satisfied: charset-normalizer>=2.0.0 in /Users/parsanemati/miniconda3/envs/indox/lib/python3.11/site-packages (from pdfminer.six) (3.4.1)\n",
      "Requirement already satisfied: cryptography>=36.0.0 in /Users/parsanemati/miniconda3/envs/indox/lib/python3.11/site-packages (from pdfminer.six) (44.0.2)\n",
      "Requirement already satisfied: cffi>=1.12 in /Users/parsanemati/miniconda3/envs/indox/lib/python3.11/site-packages (from cryptography>=36.0.0->pdfminer.six) (1.17.1)\n",
      "Requirement already satisfied: pycparser in /Users/parsanemati/miniconda3/envs/indox/lib/python3.11/site-packages (from cffi>=1.12->cryptography>=36.0.0->pdfminer.six) (2.22)\n",
      "Downloading pdfminer.six-20240706-py3-none-any.whl (5.6 MB)\n",
      "\u001b[2K   \u001b[90m━━━━━━━━━━━━━━━━━━━━━━━━━━━━━━━━━━━━━━━━\u001b[0m \u001b[32m5.6/5.6 MB\u001b[0m \u001b[31m28.0 MB/s\u001b[0m eta \u001b[36m0:00:00\u001b[0ma \u001b[36m0:00:01\u001b[0m\n",
      "\u001b[?25hInstalling collected packages: pdfminer.six\n",
      "Successfully installed pdfminer.six-20240706\n"
     ]
    }
   ],
   "source": [
    "!pip install indoxArcg\n",
    "!pip install chromadb\n",
    "!pip install semantic_text_splitter\n",
    "!pip install sentence-transformers\n",
    "!pip install pdfminer.six\n"
   ]
  },
  {
   "cell_type": "markdown",
   "id": "c631796ff433de6d",
   "metadata": {
    "id": "c631796ff433de6d"
   },
   "source": [
    "## Setting Up the Python Environment\n",
    "\n",
    "If you are running this project in your local IDE, please create a Python environment to ensure all dependencies are correctly managed. You can follow the steps below to set up a virtual environment named `indoxArcg`:\n",
    "\n",
    "### Windows\n",
    "\n",
    "1. **Create the virtual environment:**\n",
    "\n",
    "```bash\n",
    "python -m venv indoxArcg\n",
    "```\n",
    "\n",
    "2. **Activate the virtual environment:**\n",
    "\n",
    "```bash\n",
    "indoxArcg\\Scripts\\activate\n",
    "```\n",
    "\n",
    "### macOS/Linux\n",
    "\n",
    "1. **Create the virtual environment:**\n",
    "\n",
    "```bash\n",
    "   python3 -m venv indoxArcg\n",
    "```\n",
    "\n",
    "2. **Activate the virtual environment:**\n",
    "\n",
    "```bash\n",
    "   source indoxArcg/bin/activate\n",
    "```\n",
    "\n",
    "### Install Dependencies\n",
    "\n",
    "Once the virtual environment is activated, install the required dependencies by running:\n",
    "\n",
    "```bash\n",
    "pip install -r requirements.txt\n",
    "```\n"
   ]
  },
  {
   "cell_type": "code",
   "execution_count": null,
   "id": "ba17f5438e277a16",
   "metadata": {
    "ExecuteTime": {
     "end_time": "2024-08-26T01:27:01.935299Z",
     "start_time": "2024-08-26T01:27:01.833788Z"
    },
    "id": "ba17f5438e277a16"
   },
   "outputs": [],
   "source": [
    "import os\n",
    "from dotenv import load_dotenv\n",
    "\n",
    "load_dotenv()\n",
    "INDOX_API_KEY= os.getenv(\"INDOX_API_KEY\")"
   ]
  },
  {
   "cell_type": "markdown",
   "id": "pC4zGogXBsq7",
   "metadata": {
    "id": "pC4zGogXBsq7"
   },
   "source": [
    "### Creating an instance of IndoxTetrivalAugmentation\n",
    "\n",
    "To effectively utilize the Indox Retrieval Augmentation capabilities, you must first create an instance of the IndoxRetrievalAugmentation class. This instance will allow you to access the methods and properties defined within the class, enabling the augmentation and retrieval functionalities."
   ]
  },
  {
   "cell_type": "markdown",
   "id": "46e5f531cd9d8fd2",
   "metadata": {
    "id": "46e5f531cd9d8fd2"
   },
   "source": [
    "### Generating response using Indox\n",
    "IndoxApi class is used to handle question-answering task using Indox model. This instance creates IndoxOpenAIEmbedding class to specifying embedding model.By using ClusteredSplit function we can import pdf and text file and split them into chunks."
   ]
  },
  {
   "cell_type": "code",
   "execution_count": 8,
   "id": "initial_id",
   "metadata": {
    "ExecuteTime": {
     "end_time": "2024-08-26T01:26:57.470932Z",
     "start_time": "2024-08-26T01:26:57.468916Z"
    },
    "colab": {
     "base_uri": "https://localhost:8080/"
    },
    "collapsed": true,
    "id": "initial_id",
    "outputId": "11673e6b-07e1-4a75-f6d5-2787da42585a"
   },
   "outputs": [
    {
     "name": "stderr",
     "output_type": "stream",
     "text": [
      "/Users/parsanemati/miniconda3/envs/indox/lib/python3.11/site-packages/tqdm/auto.py:21: TqdmWarning: IProgress not found. Please update jupyter and ipywidgets. See https://ipywidgets.readthedocs.io/en/stable/user_install.html\n",
      "  from .autonotebook import tqdm as notebook_tqdm\n"
     ]
    },
    {
     "ename": "ImportError",
     "evalue": "cannot import name 'IndoxApi' from 'indoxArcg.llms' (/Users/parsanemati/miniconda3/envs/indox/lib/python3.11/site-packages/indoxArcg/llms/__init__.py)",
     "output_type": "error",
     "traceback": [
      "\u001b[31m---------------------------------------------------------------------------\u001b[39m",
      "\u001b[31mImportError\u001b[39m                               Traceback (most recent call last)",
      "\u001b[36mCell\u001b[39m\u001b[36m \u001b[39m\u001b[32mIn[8]\u001b[39m\u001b[32m, line 2\u001b[39m\n\u001b[32m      1\u001b[39m \u001b[38;5;66;03m# Import necessary classes from Indox library\u001b[39;00m\n\u001b[32m----> \u001b[39m\u001b[32m2\u001b[39m \u001b[38;5;28;01mfrom\u001b[39;00m\u001b[38;5;250m \u001b[39m\u001b[34;01mindoxArcg\u001b[39;00m\u001b[34;01m.\u001b[39;00m\u001b[34;01mllms\u001b[39;00m\u001b[38;5;250m \u001b[39m\u001b[38;5;28;01mimport\u001b[39;00m IndoxApi\n\u001b[32m      3\u001b[39m \u001b[38;5;28;01mfrom\u001b[39;00m\u001b[38;5;250m \u001b[39m\u001b[34;01mindoxArcg\u001b[39;00m\u001b[34;01m.\u001b[39;00m\u001b[34;01membeddings\u001b[39;00m\u001b[38;5;250m \u001b[39m\u001b[38;5;28;01mimport\u001b[39;00m IndoxApiEmbedding\n\u001b[32m      4\u001b[39m \u001b[38;5;28;01mfrom\u001b[39;00m\u001b[38;5;250m \u001b[39m\u001b[34;01mindoxArcg\u001b[39;00m\u001b[34;01m.\u001b[39;00m\u001b[34;01mdata_loader\u001b[39;00m\u001b[38;5;250m \u001b[39m\u001b[38;5;28;01mimport\u001b[39;00m PdfMiner\n",
      "\u001b[31mImportError\u001b[39m: cannot import name 'IndoxApi' from 'indoxArcg.llms' (/Users/parsanemati/miniconda3/envs/indox/lib/python3.11/site-packages/indoxArcg/llms/__init__.py)"
     ]
    }
   ],
   "source": [
    "# Import necessary classes from Indox library\n",
    "from indoxArcg.llms import IndoxApi\n",
    "from indoxArcg.embeddings import IndoxApiEmbedding\n",
    "from indoxArcg.data_loader import PdfMiner\n",
    "from indoxArcg.splitter import semantic_text_splitter\n",
    "# Create instances for API access and text embedding\n",
    "openai_qa_indox = IndoxApi(api_key=INDOX_API_KEY)\n",
    "embed_openai_indox = IndoxApiEmbedding(api_key=INDOX_API_KEY, model=\"text-embedding-3-small\")\n"
   ]
  },
  {
   "cell_type": "code",
   "execution_count": 2,
   "id": "FjPaAFmyyrWq",
   "metadata": {
    "colab": {
     "base_uri": "https://localhost:8080/"
    },
    "id": "FjPaAFmyyrWq",
    "outputId": "da791dd4-8f58-482b-8669-0fee12af236b"
   },
   "outputs": [
    {
     "name": "stdout",
     "output_type": "stream",
     "text": [
      "--2025-03-22 19:33:13--  https://docs.google.com/document/d/1_DG_rl-EQCcCUFwuY8E2s1okWUVGivZGx3j42u-U250/export?format=pdf\n",
      "Resolving docs.google.com (docs.google.com)... 142.250.191.174, 2607:f8b0:4009:819::200e\n",
      "Connecting to docs.google.com (docs.google.com)|142.250.191.174|:443... connected.\n",
      "HTTP request sent, awaiting response... 307 Temporary Redirect\n",
      "Location: https://doc-04-4k-docstext.googleusercontent.com/export/e6hpso97lrhpva19l3uocm525o/d7sevvhghq9vlm19m8vb7n8dfs/1742689990000/102335613455583036319/*/1_DG_rl-EQCcCUFwuY8E2s1okWUVGivZGx3j42u-U250?format=pdf [following]\n",
      "Warning: wildcards not supported in HTTP.\n",
      "--2025-03-22 19:33:13--  https://doc-04-4k-docstext.googleusercontent.com/export/e6hpso97lrhpva19l3uocm525o/d7sevvhghq9vlm19m8vb7n8dfs/1742689990000/102335613455583036319/*/1_DG_rl-EQCcCUFwuY8E2s1okWUVGivZGx3j42u-U250?format=pdf\n",
      "Resolving doc-04-4k-docstext.googleusercontent.com (doc-04-4k-docstext.googleusercontent.com)... 172.217.4.65, 2607:f8b0:4009:805::2001\n",
      "Connecting to doc-04-4k-docstext.googleusercontent.com (doc-04-4k-docstext.googleusercontent.com)|172.217.4.65|:443... connected.\n",
      "HTTP request sent, awaiting response... 200 OK\n",
      "Length: unspecified [application/pdf]\n",
      "Saving to: ‘sample.pdf’\n",
      "\n",
      "sample.pdf              [ <=>                ]  20.99K  --.-KB/s    in 0.01s   \n",
      "\n",
      "2025-03-22 19:33:14 (1.74 MB/s) - ‘sample.pdf’ saved [21491]\n",
      "\n"
     ]
    }
   ],
   "source": [
    "!wget --no-check-certificate 'https://docs.google.com/document/d/1_DG_rl-EQCcCUFwuY8E2s1okWUVGivZGx3j42u-U250/export?format=pdf' -O sample.pdf"
   ]
  },
  {
   "cell_type": "markdown",
   "id": "33a7a9eb37d052f3",
   "metadata": {
    "id": "33a7a9eb37d052f3"
   },
   "source": [
    "### load and preprocess data\n",
    "This part of code demonstrates how to load and preprocess text data from a pdf file using PdfMiner."
   ]
  },
  {
   "cell_type": "code",
   "execution_count": 6,
   "id": "TLShpqEB1OjT",
   "metadata": {
    "id": "TLShpqEB1OjT"
   },
   "outputs": [],
   "source": [
    "pdf_path=\"/content/sample.pdf\""
   ]
  },
  {
   "cell_type": "code",
   "execution_count": 7,
   "id": "dc3ed4ca9e6d2866",
   "metadata": {
    "id": "dc3ed4ca9e6d2866"
   },
   "outputs": [
    {
     "ename": "NameError",
     "evalue": "name 'PdfMiner' is not defined",
     "output_type": "error",
     "traceback": [
      "\u001b[31m---------------------------------------------------------------------------\u001b[39m",
      "\u001b[31mNameError\u001b[39m                                 Traceback (most recent call last)",
      "\u001b[36mCell\u001b[39m\u001b[36m \u001b[39m\u001b[32mIn[7]\u001b[39m\u001b[32m, line 1\u001b[39m\n\u001b[32m----> \u001b[39m\u001b[32m1\u001b[39m document = \u001b[43mPdfMiner\u001b[49m(pdf_path)\n\u001b[32m      2\u001b[39m docs = document.load()\n",
      "\u001b[31mNameError\u001b[39m: name 'PdfMiner' is not defined"
     ]
    }
   ],
   "source": [
    "document = PdfMiner(pdf_path)\n",
    "docs = document.load()"
   ]
  },
  {
   "cell_type": "code",
   "execution_count": 9,
   "id": "b_svqllNRl_u",
   "metadata": {
    "id": "b_svqllNRl_u"
   },
   "outputs": [
    {
     "ename": "NameError",
     "evalue": "name 'semantic_text_splitter' is not defined",
     "output_type": "error",
     "traceback": [
      "\u001b[31m---------------------------------------------------------------------------\u001b[39m",
      "\u001b[31mNameError\u001b[39m                                 Traceback (most recent call last)",
      "\u001b[36mCell\u001b[39m\u001b[36m \u001b[39m\u001b[32mIn[9]\u001b[39m\u001b[32m, line 1\u001b[39m\n\u001b[32m----> \u001b[39m\u001b[32m1\u001b[39m splitter = \u001b[43msemantic_text_splitter\u001b[49m(text=\u001b[38;5;28mstr\u001b[39m(docs),max_tokens=\u001b[32m512\u001b[39m)\n",
      "\u001b[31mNameError\u001b[39m: name 'semantic_text_splitter' is not defined"
     ]
    }
   ],
   "source": [
    "splitter = semantic_text_splitter(text=str(docs),max_tokens=512)"
   ]
  },
  {
   "cell_type": "code",
   "execution_count": null,
   "id": "CUu3JnALSLAz",
   "metadata": {
    "id": "CUu3JnALSLAz"
   },
   "outputs": [],
   "source": [
    "from indoxArcg.splitter import semantic_text_splitter\n",
    "content_chunks = semantic_text_splitter(str(docs),500)"
   ]
  },
  {
   "cell_type": "code",
   "execution_count": 30,
   "id": "b6b8e4a60bea24c8",
   "metadata": {
    "colab": {
     "base_uri": "https://localhost:8080/"
    },
    "id": "b6b8e4a60bea24c8",
    "outputId": "e71f22ff-b5f2-4a6b-b8cf-a2e03a2b9981"
   },
   "outputs": [
    {
     "name": "stdout",
     "output_type": "stream",
     "text": [
      "[Document(page_content=The wife of a rich man fell sick, and as she felt that her end\n",
      "was drawing near, she called her only daughter to her bedside and\n",
      "said, dear child, be good and pious, and then the\n",
      "good God will always protect you, and I will look down on you\n",
      "from heaven and be near you., metadata={}), Document(page_content=, metadata={})]\n"
     ]
    }
   ],
   "source": [
    "doc = docs\n",
    "print(doc)"
   ]
  },
  {
   "cell_type": "markdown",
   "id": "5d66f4e5949f9ea7",
   "metadata": {
    "id": "5d66f4e5949f9ea7"
   },
   "source": [
    "### Retrieve relevant information and generate an answer\n",
    "The main purpose of these lines is to perform a query on the vector store to retrieve the most relevant information (top_k=5) and generate an answer using the language model."
   ]
  },
  {
   "cell_type": "code",
   "execution_count": null,
   "id": "1efe372898c215ed",
   "metadata": {
    "id": "1efe372898c215ed"
   },
   "outputs": [],
   "source": [
    "from indoxArcg.vector_stores import Chroma\n",
    "\n",
    "# Define the collection name within the vector store\n",
    "collection_name = \"sample\"\n",
    "db = Chroma(collection_name=collection_name, embedding_function=embed_openai_indox)"
   ]
  },
  {
   "cell_type": "code",
   "execution_count": 32,
   "id": "ELCmIHZtC4GF",
   "metadata": {
    "colab": {
     "base_uri": "https://localhost:8080/"
    },
    "id": "ELCmIHZtC4GF",
    "outputId": "9e872be2-f8a7-40f0-c8c2-7595e8981182"
   },
   "outputs": [
    {
     "name": "stdout",
     "output_type": "stream",
     "text": [
      "\u001b[32mINFO\u001b[0m: \u001b[1mStoring documents in the vector store\u001b[0m\n",
      "\u001b[32mINFO\u001b[0m: \u001b[1mEmbedding documents\u001b[0m\n",
      "\u001b[32mINFO\u001b[0m: \u001b[1mStarting to fetch embeddings texts using engine: text-embedding-3-small\u001b[0m\n",
      "\u001b[32mINFO\u001b[0m: \u001b[1mDocument added successfully to the vector store.\u001b[0m\n",
      "\u001b[32mINFO\u001b[0m: \u001b[1mDocuments stored successfully\u001b[0m\n"
     ]
    }
   ],
   "source": [
    "db.add(docs=docs)"
   ]
  },
  {
   "cell_type": "code",
   "execution_count": 33,
   "id": "b5d2184637979019",
   "metadata": {
    "id": "b5d2184637979019"
   },
   "outputs": [],
   "source": [
    "from indoxArcg.pipelines.rag import RAG\n",
    "retriever = RAG(llm=openai_qa_indox,vector_store=db,top_k= 5)"
   ]
  },
  {
   "cell_type": "markdown",
   "id": "im1bCkWLCPyZ",
   "metadata": {
    "id": "im1bCkWLCPyZ"
   },
   "source": [
    "infer(query) method sends the query to the retriever, which searches the vector store for relevant text chunks and uses the language model to generate a response based on the retrieved information.\n",
    "Context property retrieves the context or the detailed information that the retriever used to generate the answer to the query. It provides insight into how the query was answered by showing the relevant text chunks and any additional information used."
   ]
  },
  {
   "cell_type": "code",
   "execution_count": 34,
   "id": "1e14d833164b534e",
   "metadata": {
    "id": "1e14d833164b534e"
   },
   "outputs": [],
   "source": [
    "query = \"How did Cinderella reach her happy ending?\""
   ]
  },
  {
   "cell_type": "code",
   "execution_count": 35,
   "id": "vOVJgKpMClFP",
   "metadata": {
    "colab": {
     "base_uri": "https://localhost:8080/"
    },
    "id": "vOVJgKpMClFP",
    "outputId": "0ed18d39-ea29-42da-dc4b-88c0c7d0bb0b"
   },
   "outputs": [
    {
     "name": "stdout",
     "output_type": "stream",
     "text": [
      "\u001b[32mINFO\u001b[0m: \u001b[1mRetrieving context and scores from the vector database\u001b[0m\n",
      "\u001b[32mINFO\u001b[0m: \u001b[1mEmbedding documents\u001b[0m\n",
      "\u001b[32mINFO\u001b[0m: \u001b[1mStarting to fetch embeddings texts using engine: text-embedding-3-small\u001b[0m\n"
     ]
    },
    {
     "name": "stderr",
     "output_type": "stream",
     "text": [
      "WARNING:chromadb.segment.impl.vector.local_hnsw:Number of requested results 5 is greater than number of elements in index 2, updating n_results = 2\n"
     ]
    },
    {
     "name": "stdout",
     "output_type": "stream",
     "text": [
      "\u001b[32mINFO\u001b[0m: \u001b[1mGenerating answer without document relevancy filter\u001b[0m\n",
      "\u001b[32mINFO\u001b[0m: \u001b[1mQuery answered successfully\u001b[0m\n",
      "Cinderella reached her happy ending by following her mother's advice to be good and pious. Despite facing hardships and mistreatment, Cinderella remained kind and virtuous. Eventually, her goodness was rewarded when she was noticed by the prince at the royal ball and they lived happily ever after.\n"
     ]
    }
   ],
   "source": [
    "answer = retriever.infer(query)\n",
    "print(answer)"
   ]
  }
 ],
 "metadata": {
  "colab": {
   "provenance": []
  },
  "kernelspec": {
   "display_name": "indox",
   "language": "python",
   "name": "python3"
  },
  "language_info": {
   "codemirror_mode": {
    "name": "ipython",
    "version": 3
   },
   "file_extension": ".py",
   "mimetype": "text/x-python",
   "name": "python",
   "nbconvert_exporter": "python",
   "pygments_lexer": "ipython3",
   "version": "3.11.11"
  }
 },
 "nbformat": 4,
 "nbformat_minor": 5
}

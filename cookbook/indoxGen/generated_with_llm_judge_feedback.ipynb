{
 "cells": [
  {
   "cell_type": "markdown",
   "id": "268d5240e1f4075a",
   "metadata": {},
   "source": [
    "[![Open In Colab](https://colab.research.google.com/assets/colab-badge.svg)](https://colab.research.google.com/github/osllmai/inDox/blob/master/cookbook/IndoxGen/generated_with_llm_judge_feedback.ipynb)"
   ]
  },
  {
   "cell_type": "markdown",
   "id": "8e8c593c",
   "metadata": {},
   "source": [
    "# Loading the libraries\n",
    "\n",
    "| Platform |\n",
    "|----------|\n",
    "| [![Colab](https://colab.research.google.com/assets/colab-badge.svg)](https://colab.research.google.com/github/osllmai/inDox/blob/master/cookbook/indoxGen/generated_with_llm_judge_feedback.ipynb) |\n",
    "| [![GitHub](https://img.shields.io/badge/GitHub-Repository-blue?logo=github)](https://github.com/osllmai/inDox/blob/master/cookbook/indoxGen/generated_with_llm_judge_feedback.ipynb) |\n"
   ]
  },
  {
   "cell_type": "code",
   "execution_count": null,
   "id": "113e5e58f49cf63",
   "metadata": {},
   "outputs": [],
   "source": [
    "!pip install indoxGen tenacity loguru openai python-dotenv "
   ]
  },
  {
   "cell_type": "code",
   "execution_count": 21,
   "id": "initial_id",
   "metadata": {
    "ExecuteTime": {
     "end_time": "2024-09-25T12:29:59.142676Z",
     "start_time": "2024-09-25T12:29:59.126968Z"
    },
    "collapsed": true
   },
   "outputs": [],
   "source": [
    "import os\n",
    "from dotenv import load_dotenv\n",
    "\n",
    "load_dotenv()  # take environment variables from .env.\n",
    "\n",
    "# Load the api keys\n",
    "OPENAI_API_KEY = os.environ['OPENAI_API_KEY']\n",
    "NVIDIA_API_KEY = os.environ['NVIDIA_API_KEY']"
   ]
  },
  {
   "cell_type": "markdown",
   "id": "3efe6a414fac5e08",
   "metadata": {},
   "source": [
    "### Example Data:\n",
    "\n",
    "This cell defines a set of column and corresponding example data for generating synthetic data which focused on general demographic information.\n",
    "\n",
    "1. **General Data**:\n",
    "   - `columns`: A list of three column names: `\"name\"`, `\"age\"`, and `\"occupation\"`. These represent typical demographic information fields.\n",
    "   - `example_data`: A list of dictionaries where each dictionary represents a person's demographic data. Two individuals are included:\n",
    "     - **Alice Johnson** (35 years old, Manager).\n",
    "     - **Bob Williams** (42 years old, Accountant).\n"
   ]
  },
  {
   "cell_type": "code",
   "execution_count": 10,
   "id": "f82dbf11365f0308",
   "metadata": {
    "ExecuteTime": {
     "end_time": "2024-09-25T12:30:00.772195Z",
     "start_time": "2024-09-25T12:30:00.767606Z"
    }
   },
   "outputs": [],
   "source": [
    "columns = [\"name\", \"age\", \"occupation\"]\n",
    "example_data = [\n",
    "    {\"name\": \"Alice Johnson\", \"age\": 35, \"occupation\": \"Manager\"},\n",
    "    {\"name\": \"Bob Williams\", \"age\": 42, \"occupation\": \"Accountant\"}\n",
    "]"
   ]
  },
  {
   "cell_type": "markdown",
   "id": "bdf6fbd0fbca2deb",
   "metadata": {},
   "source": [
    "### Setting Up API Clients for Synthetic Data Generation\n",
    "\n",
    "This cell establishes connections to two API clients, which are used to interact with large language models (LLMs) for synthetic data generation tasks.\n",
    "\n",
    "1. **Imports**:\n",
    "   - `from indoxGen.llms import OpenAi, IndoxApi`: Imports the `OpenAi` and `IndoxApi`classes from the `indoxGen.llms` module, enabling access to the OpenAI API and IndoxApi for generating synthetic data.\n",
    "\n",
    "2. **Initialization of API Clients**:\n",
    "   - **IndoxApi Client**:\n",
    "     ```python\n",
    "     indox = IndoxApi(api_key=INDOX_API_KEY)\n",
    "     ```\n",
    "      Initializes an `IndoxApi` client using the provided `INDOX_API_KEY` to access the OpenAI model. This client will be used for generating synthetic data, offering lightweight and efficient data generation capabilities.\n",
    "\n",
    "   - **Nemotron (NVIDIA) Client**:\n",
    "     ```python\n",
    "     nemotron = OpenAi(api_key=NVIDIA_API_KEY, model=\"nvidia/nemotron-4-340b-instruct\", base_url=\"https://integrate.api.nvidia.com/v1\")\n",
    "     ```\n",
    "     Initializes another `OpenAi` client, this time for interacting with the `\"nvidia/nemotron-4-340b-instruct\"` model, using the `NVIDIA_API_KEY` and connecting to NVIDIA's integration API via the `base_url`. The Nemotron model is a high-capacity language model designed for complex data generation tasks.\n",
    "\n",
    "This setup allows for generating synthetic data using two different models: the lightweight GPT-4 mini for more general tasks and the NVIDIA Nemotron model for heavier, more complex data generation.\n"
   ]
  },
  {
   "cell_type": "code",
   "execution_count": null,
   "id": "1cd3698c",
   "metadata": {},
   "outputs": [],
   "source": [
    "from indoxGen.llms import OpenAi\n",
    "nemotron = OpenAi(api_key=NVIDIA_API_KEY, model=\"nvidia/nemotron-4-340b-instruct\", base_url=\"https://integrate.api.nvidia.com/v1\")"
   ]
  },
  {
   "cell_type": "markdown",
   "id": "18e3fb2f0faabab",
   "metadata": {},
   "source": [
    "### Initializing Synthetic Data Generator with human feedback feature\n",
    "\n",
    "This cell sets up the synthetic data generation with human feedback pipeline by initializing an instance of `SyntheticDataGeneratorHF`. The generator leverages two language models (LLMs) to create realistic synthetic data based on the provided examples and user instructions. Also the generator allows you to inspect data that falls below a certain threshold, either accepting it or regenerating them using a feedback to add to the existing dataset.\n",
    "\n",
    "1. **Imports**:\n",
    "   - `from indoxGen.synthCore import SyntheticDataGeneratorHF`: Imports the `SyntheticDataGeneratorHF` class from the `indoxGen.synthCore` module, which is responsible for generating synthetic data with human feedback based on specified parameters.\n",
    "\n",
    "2. **Initializing the `SyntheticDataGeneratorHF`**:\n",
    "    The `SyntheticDataGeneratorHF` is initialized with the following parameters:\n",
    "- **generator_llm**: The main language model (`nemotron`) used for generating the synthetic data.\n",
    "- **judge_llm**: A secondary language model (`openai`) used for evaluating the generated data, ensuring its quality and accuracy.\n",
    "- **columns**: Specifies the structure of the synthetic data, including `\"name\"`, `\"age\"`, and `\"occupation\"`.\n",
    "- **example_data**: Provides example entries to guide the generation process.\n",
    "- **user_instruction**: A detailed instruction for generating synthetic data, ensuring diversity in names, ages, occupations, and race. It also ensures that the generated data covers both common and rare procedures, along with appropriate age ranges.\n",
    "- **verbose**: Controls the verbosity of the generator, with `1` enabling detailed output during the generation process.\n",
    "- **diversity_threshold**: Threshold for determining data diversity\n",
    "- **feedback_min_score**: Minimum score for accepting generated data, data falling below this threshold will be held in pending review for a decision on whether to accept or regenerate it.\n"
   ]
  },
  {
   "cell_type": "code",
   "execution_count": 24,
   "id": "34e00ba1ebf7160b",
   "metadata": {
    "ExecuteTime": {
     "end_time": "2024-09-25T12:30:05.399117Z",
     "start_time": "2024-09-25T12:30:04.852046Z"
    }
   },
   "outputs": [
    {
     "ename": "ImportError",
     "evalue": "cannot import name 'SyntheticDataGeneratorHF' from 'indoxGen.synthCore' (c:\\Users\\AliNemati\\.conda\\envs\\indox\\Lib\\site-packages\\indoxGen\\synthCore\\__init__.py)",
     "output_type": "error",
     "traceback": [
      "\u001b[1;31m---------------------------------------------------------------------------\u001b[0m",
      "\u001b[1;31mImportError\u001b[0m                               Traceback (most recent call last)",
      "Cell \u001b[1;32mIn[24], line 1\u001b[0m\n\u001b[1;32m----> 1\u001b[0m \u001b[38;5;28;01mfrom\u001b[39;00m \u001b[38;5;21;01mindoxGen\u001b[39;00m\u001b[38;5;21;01m.\u001b[39;00m\u001b[38;5;21;01msynthCore\u001b[39;00m \u001b[38;5;28;01mimport\u001b[39;00m SyntheticDataGeneratorHF\n\u001b[0;32m      2\u001b[0m generator \u001b[38;5;241m=\u001b[39m SyntheticDataGeneratorHF(\n\u001b[0;32m      3\u001b[0m     generator_llm\u001b[38;5;241m=\u001b[39mnemotron,\n\u001b[0;32m      4\u001b[0m     judge_llm\u001b[38;5;241m=\u001b[39mopenai,\n\u001b[1;32m   (...)\u001b[0m\n\u001b[0;32m     10\u001b[0m     feedback_min_score \u001b[38;5;241m=\u001b[39m \u001b[38;5;241m0.9\u001b[39m\n\u001b[0;32m     11\u001b[0m )\n",
      "\u001b[1;31mImportError\u001b[0m: cannot import name 'SyntheticDataGeneratorHF' from 'indoxGen.synthCore' (c:\\Users\\AliNemati\\.conda\\envs\\indox\\Lib\\site-packages\\indoxGen\\synthCore\\__init__.py)"
     ]
    }
   ],
   "source": [
    "from indoxGen.synthCore import SyntheticDataGeneratorHF\n",
    "generator = SyntheticDataGeneratorHF(\n",
    "    generator_llm=nemotron,\n",
    "    judge_llm=openai,\n",
    "    columns=columns,\n",
    "    example_data=example_data,\n",
    "    user_instruction=\"Generate realistic data including name, age and occupation. Ensure a mix of common and rare procedures, varying race, and appropriate date ranges for age.\",\n",
    "    verbose=1,\n",
    "    diversity_threshold=0.8,\n",
    "    feedback_min_score = 0.9\n",
    ")"
   ]
  },
  {
   "cell_type": "code",
   "execution_count": 25,
   "id": "ae599a029c38fa30",
   "metadata": {
    "ExecuteTime": {
     "end_time": "2024-09-25T12:31:01.584612Z",
     "start_time": "2024-09-25T12:30:07.930782Z"
    }
   },
   "outputs": [
    {
     "ename": "NameError",
     "evalue": "name 'generator' is not defined",
     "output_type": "error",
     "traceback": [
      "\u001b[1;31m---------------------------------------------------------------------------\u001b[0m",
      "\u001b[1;31mNameError\u001b[0m                                 Traceback (most recent call last)",
      "Cell \u001b[1;32mIn[25], line 2\u001b[0m\n\u001b[0;32m      1\u001b[0m \u001b[38;5;66;03m# Generate data\u001b[39;00m\n\u001b[1;32m----> 2\u001b[0m generated_data \u001b[38;5;241m=\u001b[39m generator\u001b[38;5;241m.\u001b[39mgenerate_data(num_samples\u001b[38;5;241m=\u001b[39m\u001b[38;5;241m10\u001b[39m)\n",
      "\u001b[1;31mNameError\u001b[0m: name 'generator' is not defined"
     ]
    }
   ],
   "source": [
    "# Generate data\n",
    "generated_data = generator.generate_data(num_samples=10)"
   ]
  },
  {
   "cell_type": "code",
   "execution_count": 6,
   "id": "f5103a9a65a1ed6",
   "metadata": {
    "ExecuteTime": {
     "end_time": "2024-09-25T12:31:35.588056Z",
     "start_time": "2024-09-25T12:31:35.581378Z"
    }
   },
   "outputs": [
    {
     "data": {
      "text/html": [
       "<div>\n",
       "<style scoped>\n",
       "    .dataframe tbody tr th:only-of-type {\n",
       "        vertical-align: middle;\n",
       "    }\n",
       "\n",
       "    .dataframe tbody tr th {\n",
       "        vertical-align: top;\n",
       "    }\n",
       "\n",
       "    .dataframe thead th {\n",
       "        text-align: right;\n",
       "    }\n",
       "</style>\n",
       "<table border=\"1\" class=\"dataframe\">\n",
       "  <thead>\n",
       "    <tr style=\"text-align: right;\">\n",
       "      <th></th>\n",
       "      <th>name</th>\n",
       "      <th>age</th>\n",
       "      <th>occupation</th>\n",
       "    </tr>\n",
       "  </thead>\n",
       "  <tbody>\n",
       "    <tr>\n",
       "      <th>0</th>\n",
       "      <td>Rev. Hector Mendez-Villaneuva</td>\n",
       "      <td>38</td>\n",
       "      <td>Bilingual School Guidance Counselor (Spanish-E...</td>\n",
       "    </tr>\n",
       "  </tbody>\n",
       "</table>\n",
       "</div>"
      ],
      "text/plain": [
       "                            name age  \\\n",
       "0  Rev. Hector Mendez-Villaneuva  38   \n",
       "\n",
       "                                          occupation  \n",
       "0  Bilingual School Guidance Counselor (Spanish-E...  "
      ]
     },
     "execution_count": 6,
     "metadata": {},
     "output_type": "execute_result"
    }
   ],
   "source": [
    "generated_data"
   ]
  },
  {
   "cell_type": "code",
   "execution_count": 7,
   "id": "95c1ec398c461a46",
   "metadata": {
    "ExecuteTime": {
     "end_time": "2024-09-25T12:31:39.725328Z",
     "start_time": "2024-09-25T12:31:39.719642Z"
    }
   },
   "outputs": [
    {
     "data": {
      "text/html": [
       "<div>\n",
       "<style scoped>\n",
       "    .dataframe tbody tr th:only-of-type {\n",
       "        vertical-align: middle;\n",
       "    }\n",
       "\n",
       "    .dataframe tbody tr th {\n",
       "        vertical-align: top;\n",
       "    }\n",
       "\n",
       "    .dataframe thead th {\n",
       "        text-align: right;\n",
       "    }\n",
       "</style>\n",
       "<table border=\"1\" class=\"dataframe\">\n",
       "  <thead>\n",
       "    <tr style=\"text-align: right;\">\n",
       "      <th></th>\n",
       "      <th>data</th>\n",
       "      <th>score</th>\n",
       "    </tr>\n",
       "  </thead>\n",
       "  <tbody>\n",
       "    <tr>\n",
       "      <th>0</th>\n",
       "      <td>{'name': 'Dr. Maya Patel', 'age': '39', 'occup...</td>\n",
       "      <td>0.8</td>\n",
       "    </tr>\n",
       "    <tr>\n",
       "      <th>1</th>\n",
       "      <td>{'name': 'Captain Jamal Al-Hussein', 'age': '3...</td>\n",
       "      <td>0.8</td>\n",
       "    </tr>\n",
       "    <tr>\n",
       "      <th>2</th>\n",
       "      <td>{'name': 'Professor Yuko Takahashi', 'age': '4...</td>\n",
       "      <td>0.8</td>\n",
       "    </tr>\n",
       "    <tr>\n",
       "      <th>3</th>\n",
       "      <td>{'name': 'Sergeant Major sorsha O'Sullivan', '...</td>\n",
       "      <td>0.8</td>\n",
       "    </tr>\n",
       "    <tr>\n",
       "      <th>4</th>\n",
       "      <td>{'name': 'Mahmoud Sheikh-Collins', 'age': '37'...</td>\n",
       "      <td>0.8</td>\n",
       "    </tr>\n",
       "    <tr>\n",
       "      <th>5</th>\n",
       "      <td>{'name': 'Rev. Sister glitches Chang', 'age': ...</td>\n",
       "      <td>0.8</td>\n",
       "    </tr>\n",
       "    <tr>\n",
       "      <th>6</th>\n",
       "      <td>{'name': 'Dr. Esperanza Garc erweiterte Şehit'...</td>\n",
       "      <td>0.7</td>\n",
       "    </tr>\n",
       "    <tr>\n",
       "      <th>7</th>\n",
       "      <td>{'name': 'Dr. Kaya competences Ns算法 Engineer',...</td>\n",
       "      <td>0.7</td>\n",
       "    </tr>\n",
       "    <tr>\n",
       "      <th>8</th>\n",
       "      <td>{'name': 'Prof. Aasha de Luca', 'age': '39', '...</td>\n",
       "      <td>0.8</td>\n",
       "    </tr>\n",
       "  </tbody>\n",
       "</table>\n",
       "</div>"
      ],
      "text/plain": [
       "                                                data  score\n",
       "0  {'name': 'Dr. Maya Patel', 'age': '39', 'occup...    0.8\n",
       "1  {'name': 'Captain Jamal Al-Hussein', 'age': '3...    0.8\n",
       "2  {'name': 'Professor Yuko Takahashi', 'age': '4...    0.8\n",
       "3  {'name': 'Sergeant Major sorsha O'Sullivan', '...    0.8\n",
       "4  {'name': 'Mahmoud Sheikh-Collins', 'age': '37'...    0.8\n",
       "5  {'name': 'Rev. Sister glitches Chang', 'age': ...    0.8\n",
       "6  {'name': 'Dr. Esperanza Garc erweiterte Şehit'...    0.7\n",
       "7  {'name': 'Dr. Kaya competences Ns算法 Engineer',...    0.7\n",
       "8  {'name': 'Prof. Aasha de Luca', 'age': '39', '...    0.8"
      ]
     },
     "execution_count": 7,
     "metadata": {},
     "output_type": "execute_result"
    }
   ],
   "source": [
    "generator.pending_review"
   ]
  },
  {
   "cell_type": "markdown",
   "id": "a4b3d4422dc3325e",
   "metadata": {},
   "source": [
    "* **`accepted_rows`:** A list of data points that have been approved and will be added to the generated dataset.If set to 'all', all pending data points will be accepted.\n",
    "* **`regenerate_rows`:** A list of data points that will be regenerated based on the provided feedback. If set to 'all', all pending data points will be regenerated.\n",
    "* **`regeneration_feedback`:** A string specifying the desired changes for the regeneration process.\n",
    "* **`min_score`:** The minimum score a data point must achieve to be considered for acceptance.\n",
    " \n",
    "* **Note**: If both `accepted_rows` and `regenerate_row` set to 'all', it would just consider `accepted_row` to all.\n"
   ]
  },
  {
   "cell_type": "code",
   "execution_count": 8,
   "id": "dced7a825161a547",
   "metadata": {
    "ExecuteTime": {
     "end_time": "2024-09-25T12:32:53.246720Z",
     "start_time": "2024-09-25T12:32:40.200119Z"
    }
   },
   "outputs": [
    {
     "data": {
      "text/html": [
       "<div>\n",
       "<style scoped>\n",
       "    .dataframe tbody tr th:only-of-type {\n",
       "        vertical-align: middle;\n",
       "    }\n",
       "\n",
       "    .dataframe tbody tr th {\n",
       "        vertical-align: top;\n",
       "    }\n",
       "\n",
       "    .dataframe thead th {\n",
       "        text-align: right;\n",
       "    }\n",
       "</style>\n",
       "<table border=\"1\" class=\"dataframe\">\n",
       "  <thead>\n",
       "    <tr style=\"text-align: right;\">\n",
       "      <th></th>\n",
       "      <th>name</th>\n",
       "      <th>age</th>\n",
       "      <th>occupation</th>\n",
       "    </tr>\n",
       "  </thead>\n",
       "  <tbody>\n",
       "    <tr>\n",
       "      <th>0</th>\n",
       "      <td>Rev. Hector Mendez-Villaneuva</td>\n",
       "      <td>38</td>\n",
       "      <td>Bilingual School Guidance Counselor (Spanish-E...</td>\n",
       "    </tr>\n",
       "    <tr>\n",
       "      <th>1</th>\n",
       "      <td>Dr. Maya Patel</td>\n",
       "      <td>39</td>\n",
       "      <td>Neurosurgeon</td>\n",
       "    </tr>\n",
       "    <tr>\n",
       "      <th>2</th>\n",
       "      <td>Captain Jamal Al-Hussein</td>\n",
       "      <td>36</td>\n",
       "      <td>Aircraft Pilot</td>\n",
       "    </tr>\n",
       "    <tr>\n",
       "      <th>3</th>\n",
       "      <td>Professor Yuko Takahashi</td>\n",
       "      <td>41</td>\n",
       "      <td>Quantum Physicist</td>\n",
       "    </tr>\n",
       "    <tr>\n",
       "      <th>4</th>\n",
       "      <td>Sergeant Major sorsha O'Sullivan</td>\n",
       "      <td>37</td>\n",
       "      <td>Military Musician - French Horn Specialist</td>\n",
       "    </tr>\n",
       "    <tr>\n",
       "      <th>5</th>\n",
       "      <td>Mahmoud Sheikh-Collins</td>\n",
       "      <td>37</td>\n",
       "      <td>Islamic Art Historian and Curator</td>\n",
       "    </tr>\n",
       "    <tr>\n",
       "      <th>6</th>\n",
       "      <td>Rev. Sister glitches Chang</td>\n",
       "      <td>36</td>\n",
       "      <td>Catholic Nun and Computer Science Teacher</td>\n",
       "    </tr>\n",
       "    <tr>\n",
       "      <th>7</th>\n",
       "      <td>Prof. Aasha de Luca</td>\n",
       "      <td>39</td>\n",
       "      <td>Archaeologist - Ancient Italian and Indian Civ...</td>\n",
       "    </tr>\n",
       "    <tr>\n",
       "      <th>8</th>\n",
       "      <td>Dr. Kamilla W Zola-Mbeki</td>\n",
       "      <td>37</td>\n",
       "      <td>Pediatric Neurologist and South African Langua...</td>\n",
       "    </tr>\n",
       "    <tr>\n",
       "      <th>9</th>\n",
       "      <td>Dr. Zhora Nur angiography Tariq</td>\n",
       "      <td>40</td>\n",
       "      <td>Interventional Radiologist and Persian Calligr...</td>\n",
       "    </tr>\n",
       "  </tbody>\n",
       "</table>\n",
       "</div>"
      ],
      "text/plain": [
       "                               name age  \\\n",
       "0     Rev. Hector Mendez-Villaneuva  38   \n",
       "1                    Dr. Maya Patel  39   \n",
       "2          Captain Jamal Al-Hussein  36   \n",
       "3          Professor Yuko Takahashi  41   \n",
       "4  Sergeant Major sorsha O'Sullivan  37   \n",
       "5            Mahmoud Sheikh-Collins  37   \n",
       "6        Rev. Sister glitches Chang  36   \n",
       "7               Prof. Aasha de Luca  39   \n",
       "8          Dr. Kamilla W Zola-Mbeki  37   \n",
       "9   Dr. Zhora Nur angiography Tariq  40   \n",
       "\n",
       "                                          occupation  \n",
       "0  Bilingual School Guidance Counselor (Spanish-E...  \n",
       "1                                       Neurosurgeon  \n",
       "2                                     Aircraft Pilot  \n",
       "3                                  Quantum Physicist  \n",
       "4         Military Musician - French Horn Specialist  \n",
       "5                  Islamic Art Historian and Curator  \n",
       "6          Catholic Nun and Computer Science Teacher  \n",
       "7  Archaeologist - Ancient Italian and Indian Civ...  \n",
       "8  Pediatric Neurologist and South African Langua...  \n",
       "9  Interventional Radiologist and Persian Calligr...  "
      ]
     },
     "execution_count": 8,
     "metadata": {},
     "output_type": "execute_result"
    }
   ],
   "source": [
    "generator.user_review_and_regenerate(accepted_rows = [0,1,2,3,4,5,8],regenerate_rows= [6,7],regeneration_feedback = 'change name to another name , also change occupation to another occupation',min_score=0.7)"
   ]
  },
  {
   "cell_type": "code",
   "execution_count": 9,
   "id": "a50d33710bda8317",
   "metadata": {
    "ExecuteTime": {
     "end_time": "2024-09-25T12:33:46.145481Z",
     "start_time": "2024-09-25T12:33:46.141058Z"
    }
   },
   "outputs": [
    {
     "data": {
      "text/html": [
       "<div>\n",
       "<style scoped>\n",
       "    .dataframe tbody tr th:only-of-type {\n",
       "        vertical-align: middle;\n",
       "    }\n",
       "\n",
       "    .dataframe tbody tr th {\n",
       "        vertical-align: top;\n",
       "    }\n",
       "\n",
       "    .dataframe thead th {\n",
       "        text-align: right;\n",
       "    }\n",
       "</style>\n",
       "<table border=\"1\" class=\"dataframe\">\n",
       "  <thead>\n",
       "    <tr style=\"text-align: right;\">\n",
       "      <th></th>\n",
       "      <th>index</th>\n",
       "      <th>data</th>\n",
       "      <th>score</th>\n",
       "    </tr>\n",
       "  </thead>\n",
       "  <tbody>\n",
       "  </tbody>\n",
       "</table>\n",
       "</div>"
      ],
      "text/plain": [
       "Empty DataFrame\n",
       "Columns: [index, data, score]\n",
       "Index: []"
      ]
     },
     "execution_count": 9,
     "metadata": {},
     "output_type": "execute_result"
    }
   ],
   "source": [
    "generator.pending_review"
   ]
  },
  {
   "cell_type": "markdown",
   "id": "46e95018",
   "metadata": {},
   "source": [
    "## Join Us\n",
    "\n",
    "Join us in exploring how Indox can revolutionize your document processing workflow, bringing clarity and organization to your data retrieval needs. Connect with us and become part of our growing community through the platforms below:\n",
    "\n",
    "## Community\n",
    "\n",
    "- [Discord](https://discord.com/invite/xGz5tQYaeq)\n",
    "- [X (Twitter)](https://x.com/osllmai)\n",
    "- [LinkedIn](https://www.linkedin.com/company/osllmai/)\n",
    "- [YouTube](https://www.youtube.com/@osllm-rb9pr)\n",
    "- [Telegram](https://t.me/osllmai)\n",
    "\n",
    "\n",
    "Reviewed by: Ali Nemati - March, 22, 2025\n",
    "\n",
    "*Note: some issue had been reported!*\n",
    "\n",
    "*lack of demo*\n"
   ]
  }
 ],
 "metadata": {
  "kernelspec": {
   "display_name": "indox",
   "language": "python",
   "name": "python3"
  },
  "language_info": {
   "codemirror_mode": {
    "name": "ipython",
    "version": 3
   },
   "file_extension": ".py",
   "mimetype": "text/x-python",
   "name": "python",
   "nbconvert_exporter": "python",
   "pygments_lexer": "ipython3",
   "version": "3.11.11"
  }
 },
 "nbformat": 4,
 "nbformat_minor": 5
}

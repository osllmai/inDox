{
 "cells": [
  {
   "cell_type": "code",
   "execution_count": 7,
   "metadata": {},
   "outputs": [
    {
     "name": "stdout",
     "output_type": "stream",
     "text": [
      "✅ README.md has been created successfully with external links opening in new tabs.\n"
     ]
    }
   ],
   "source": [
    "# List of Jupyter notebooks\n",
    "notebooks = [\n",
    "    \"CsvLoader.ipynb\", \"Deeplake_VectorStore.ipynb\", \"Milvus_vectorStore.ipynb\", \"PdfLoader.ipynb\",\n",
    "    \"arxiv_chroma_semantic.ipynb\", \"cag.ipynb\", \"data_connectors.ipynb\", \"docling_reader.ipynb\",\n",
    "    \"duckdb.ipynb\", \"github_chroma_recursive.ipynb\", \"googleai_.ipynb\", \"guten_chroma_semantic.ipynb\",\n",
    "    \"hf_mistral_SimpleReader.ipynb\", \"indoxJudge_evaluation.ipynb\", \"lanterndb.ipynb\",\n",
    "    \"local_hf_model_demo.ipynb\", \"mistral_clusteredSplit.ipynb\", \"mistral_eval.ipynb\",\n",
    "    \"mistral_unstructured.ipynb\", \"multiquery_guten_chroma.ipynb\", \"nerd_token_api.ipynb\",\n",
    "    \"ollama.ipynb\", \"openai_clusterSplit.ipynb\", \"openai_unstructured.ipynb\", \"qdrant.ipynb\",\n",
    "    \"quick_start.ipynb\", \"redis.ipynb\", \"singlestoredb.ipynb\", \"wikipedia_mongodb_semantic.ipynb\",\n",
    "    \"working_with_GraphDBs(MemGraph).ipynb\", \"working_with_GraphDBs(Neo4j).ipynb\"\n",
    "]\n",
    "\n",
    "# Logo badge URLs\n",
    "logo_colab = \"https://colab.research.google.com/assets/colab-badge.svg\"\n",
    "logo_github = \"https://img.shields.io/badge/GitHub-Repository-blue?logo=github\"\n",
    "logo_kaggle = \"https://img.shields.io/badge/Kaggle-Notebook-blue?logo=kaggle\"\n",
    "\n",
    "# Base URLs\n",
    "base_colab = \"https://colab.research.google.com/github/osllmai/inDox/blob/master/cookbook/indoxArcg/\"\n",
    "base_github = \"https://github.com/osllmai/inDox/blob/master/cookbook/indoxArcg/\"\n",
    "base_kaggle = \"https://www.kaggle.com/kernels/welcome?src=https://github.com/osllmai/inDox/blob/master/cookbook/indoxArcg/\"\n",
    "\n",
    "# Markdown Table Setup\n",
    "table_header = \"| # |Notebook | Open in Colab | GitHub | Open in Kaggle | Where |Notes | Date of Check |\\n\"\n",
    "table_divider = \"|---|---|---|---|---|---|---|---|\\n\"\n",
    "table_rows = []\n",
    "\n",
    "# Create a row for each notebook\n",
    "for idx, nb in enumerate(notebooks, 1):\n",
    "    # Prepare links and row content\n",
    "    name = nb.replace(\".ipynb\", \"\")\n",
    "    colab_link = f'<a href=\"{base_colab}{nb}\" target=\"_blank\"><img src=\"{logo_colab}\" alt=\"Open in Colab\"></a>'\n",
    "    github_link = f'<a href=\"{base_github}{nb}\" target=\"_blank\"><img src=\"{logo_github}\" alt=\"View on GitHub\"></a>'\n",
    "    kaggle_link = f'<a href=\"{base_kaggle}{nb}\" target=\"_blank\"><img src=\"{logo_kaggle}\" alt=\"Open in Kaggle\"></a>'\n",
    "    row = f\"| {idx} |{name} | {colab_link} | {github_link} | {kaggle_link} |  |  |\"\n",
    "    table_rows.append(row)\n",
    "\n",
    "# Combine all parts into full README content\n",
    "readme_content = \"# Notebooks includes list of demo ino one page!\\n\\n\" + table_header + table_divider + \"\\n\".join(table_rows)\n",
    "\n",
    "# Save to README.md\n",
    "with open(\"README.md\", \"w\") as f:\n",
    "    f.write(readme_content)\n",
    "\n",
    "print(\"✅ README.md has been created successfully with external links opening in new tabs.\")\n"
   ]
  }
 ],
 "metadata": {
  "kernelspec": {
   "display_name": "qt",
   "language": "python",
   "name": "python3"
  },
  "language_info": {
   "codemirror_mode": {
    "name": "ipython",
    "version": 3
   },
   "file_extension": ".py",
   "mimetype": "text/x-python",
   "name": "python",
   "nbconvert_exporter": "python",
   "pygments_lexer": "ipython3",
   "version": "3.13.1"
  }
 },
 "nbformat": 4,
 "nbformat_minor": 2
}
